{
 "cells": [
  {
   "cell_type": "code",
   "execution_count": 1,
   "metadata": {},
   "outputs": [
    {
     "name": "stderr",
     "output_type": "stream",
     "text": [
      "/usr/lib64/python3.9/site-packages/scipy/__init__.py:138: UserWarning: A NumPy version >=1.16.5 and <1.23.0 is required for this version of SciPy (detected version 1.26.1)\n",
      "  warnings.warn(f\"A NumPy version >={np_minversion} and <{np_maxversion} is required for this version of \"\n"
     ]
    }
   ],
   "source": [
    "import matplotlib.pyplot as plt\n",
    "import numpy as np\n",
    "from visualize_foreground import *"
   ]
  },
  {
   "cell_type": "code",
   "execution_count": 59,
   "metadata": {},
   "outputs": [],
   "source": [
    "directory = \"/mn/stornext/d10/data/tabjone/data/test_modes_3/\"\n",
    "\n",
    "variables_1, info_1 = read_fg(directory+\"snap5_0.h5\")\n",
    "variables_2, info_2 = read_fg(directory+\"snap5_1.h5\")\n",
    "variables_3, info_3 = read_fg(directory+\"snap5_2.h5\")"
   ]
  },
  {
   "cell_type": "code",
   "execution_count": 60,
   "metadata": {},
   "outputs": [
    {
     "data": {
      "text/plain": [
       "0"
      ]
     },
     "execution_count": 60,
     "metadata": {},
     "output_type": "execute_result"
    }
   ],
   "source": [
    "#check if ghost cells match up to the real cells\n",
    "\n",
    "nz_ghost = info_1['nz_ghost']\n",
    "\n",
    "var = 's1'\n",
    "\n",
    "a = False\n",
    "for var in ['s1', 'T1', 'p1', 'vz', 'vy', 'rho1']:\n",
    "    for var2, var1 in [[variables_3, variables_2], [variables_2, variables_1]]:\n",
    "        a+= np.where(var2[var][2,:] - var1[var][-2,:] > 0)[0].size > 0\n",
    "        a+= np.where(var2[var][3,:] - var1[var][-1,:] > 0)[0].size > 0\n",
    "        a+= np.where(var1[var][-3,:] - var2[var][1,:] > 0)[0].size > 0\n",
    "        a+= np.where(var1[var][-4,:] - var2[var][0,:] > 0)[0].size > 0\n",
    "\n",
    "a"
   ]
  },
  {
   "cell_type": "code",
   "execution_count": null,
   "metadata": {},
   "outputs": [],
   "source": []
  }
 ],
 "metadata": {
  "kernelspec": {
   "display_name": "Python 3",
   "language": "python",
   "name": "python3"
  },
  "language_info": {
   "codemirror_mode": {
    "name": "ipython",
    "version": 3
   },
   "file_extension": ".py",
   "mimetype": "text/x-python",
   "name": "python",
   "nbconvert_exporter": "python",
   "pygments_lexer": "ipython3",
   "version": "3.9.18"
  }
 },
 "nbformat": 4,
 "nbformat_minor": 2
}
