{
 "cells": [
  {
   "cell_type": "code",
   "execution_count": 1,
   "metadata": {},
   "outputs": [],
   "source": [
    "import matplotlib.pyplot as plt\n",
    "from matplotlib.colors import TwoSlopeNorm\n",
    "import numpy as np\n",
    "import os\n",
    "import astropy.units as u\n",
    "import h5py\n",
    "\n",
    "from read_simulation_data.get_mpi_info import get_mpi_info\n",
    "\n",
    "DATA_FOLDER = \"/mn/stornext/d10/data/tabjone/data/\"\n",
    "R_SUN = 6.957e10"
   ]
  },
  {
   "cell_type": "code",
   "execution_count": 11,
   "metadata": {},
   "outputs": [],
   "source": [
    "# Directory containing the snapshot files\n",
    "directory = DATA_FOLDER + 'test_other_ic_4'\n",
    "num = 0\n",
    "# Iterate over all files in the directory\n",
    "for filename in os.listdir(directory):\n",
    "    if filename.startswith(\"snap\") and filename.endswith(\".h5\"):\n",
    "        # Split the filename to extract the snapshot number\n",
    "        parts = filename.split('p')\n",
    "        parts = parts[1].split('.')\n",
    "        parts = parts[0].split('_')\n",
    "        snap_number = int(parts[0])\n",
    "        if snap_number > 3040:\n",
    "            # Construct full file path\n",
    "            file_path = os.path.join(directory, filename)\n",
    "            # Delete the file\n",
    "            os.remove(file_path)"
   ]
  },
  {
   "cell_type": "code",
   "execution_count": 3,
   "metadata": {},
   "outputs": [],
   "source": [
    "SAVE_FOLDER = 'data/'\n",
    "RUN_NAME = \"mpi_test/\""
   ]
  },
  {
   "cell_type": "code",
   "execution_count": 51,
   "metadata": {},
   "outputs": [],
   "source": [
    "def get_background_variable(folder, variable_key):\n",
    "    # Get the number of processes\n",
    "    num_processes = get_mpi_info(folder+'mpi_info.h5')\n",
    "\n",
    "    # Variable from all processes\n",
    "    variable = []\n",
    "\n",
    "    for i in range(num_processes):\n",
    "        with h5py.File(f'{folder}background_{i}.h5', 'r') as f:\n",
    "            dataset = f[f'variables/{variable_key}']\n",
    "            process_variable = np.array(dataset)\n",
    "            unit_attr = dataset.attrs['unit']\n",
    "            unit = unit_attr[0].decode('utf-8') if isinstance(unit_attr[0], bytes) else unit_attr[0]\n",
    "            nz_ghost = np.array(f['grid_info/nz_ghost'])\n",
    "\n",
    "            if num_processes ==1:\n",
    "                variable.append(process_variable)\n",
    "            else:\n",
    "                if i == 0:\n",
    "                    variable.append(process_variable)\n",
    "                elif i == num_processes - 1:\n",
    "                    variable.append(process_variable)\n",
    "                else:\n",
    "                    variable.append(process_variable)\n",
    "    \n",
    "    # Concatenating the data for each variable\n",
    "    #variable = np.concatenate(variable, axis=0)\n",
    "\n",
    "    return variable, unit\n",
    "\n",
    "def get_foreground_variable(folder, snap_number, variable_key):\n",
    "    # Get the number of processes\n",
    "    num_processes = get_mpi_info(folder+'mpi_info.h5')\n",
    "\n",
    "    # Variable from all processes\n",
    "    variable = []\n",
    "\n",
    "    for i in range(num_processes):\n",
    "        with h5py.File(f'{folder}snap{snap_number}_{i}.h5', 'r') as f:\n",
    "            t = np.array(f['grid_info/t'])\n",
    "            dataset = f[f'variables/{variable_key}']\n",
    "\n",
    "            unit_attr = dataset.attrs['unit']\n",
    "            unit = unit_attr[0].decode('utf-8') if isinstance(unit_attr[0], bytes) else unit_attr[0]\n",
    "\n",
    "            process_variable = np.array(dataset)\n",
    "            nz_ghost = np.array(f['grid_info/nz_ghost'])\n",
    "\n",
    "            if num_processes ==1:\n",
    "                variable.append(process_variable)\n",
    "            else:\n",
    "                if i == 0:\n",
    "                    variable.append(process_variable)\n",
    "                elif i == num_processes - 1:\n",
    "                    variable.append(process_variable)\n",
    "                else:\n",
    "                    variable.append(process_variable)\n",
    "    \n",
    "    # Concatenating the data for each variable\n",
    "    #variable = np.concatenate(variable, axis=0)\n",
    "    \n",
    "    return variable, unit, t"
   ]
  },
  {
   "cell_type": "code",
   "execution_count": 59,
   "metadata": {},
   "outputs": [],
   "source": [
    "s1 = get_foreground_variable(DATA_FOLDER+RUN_NAME, 0, 'p1')[0]"
   ]
  },
  {
   "cell_type": "code",
   "execution_count": 60,
   "metadata": {},
   "outputs": [
    {
     "data": {
      "text/plain": [
       "array([[       0.        ,        0.        ,        0.        ],\n",
       "       [       0.        ,        0.        ,        0.        ],\n",
       "       [      -0.        , 44375026.562393  , 88571370.55470836],\n",
       "       [      -0.        , 42327690.02317098, 84484941.37791309],\n",
       "       [      -0.        , 40179023.86723116, 80196260.98628509],\n",
       "       [      -0.        , 37945109.70034231, 75737427.83641134],\n",
       "       [      -0.        , 35640102.08659754, 71136694.0610443 ],\n",
       "       [      -0.        , 33279515.20749402, 66425025.55304497],\n",
       "       [      -0.        , 30876957.15124941, 61629583.69388037],\n",
       "       [      -0.        , 28447100.00225411, 56779653.57302583],\n",
       "       [      -0.        , 26002765.51265519, 51900827.06610499],\n",
       "       [      -0.        , 23557546.18931408, 47020234.45461293],\n",
       "       [      -0.        , 21123272.3182492 , 42161488.67420016],\n",
       "       [      -0.        , 18712259.10587052, 37349170.54869695],\n",
       "       [      -0.        , 16335177.02528467, 32604578.05808745],\n",
       "       [      -0.        , 14002907.57407427, 27949430.38158671],\n",
       "       [      -0.        , 11724830.97498158, 23402450.19383295],\n",
       "       [      -0.        ,  9510280.49517698, 18982266.44739412],\n",
       "       [      -0.        ,  7367253.8063232 , 14704842.28179466],\n",
       "       [      -0.        ,  5303462.94105968, 10585570.70867991],\n",
       "       [      -0.        ,  3325468.23117019,  6637545.97547676],\n",
       "       [      -0.        ,  1439327.7386179 ,  2872859.81243415],\n",
       "       [      -0.        ,  -349854.23612012,  -698299.73271025],\n",
       "       [      -0.        , -2037668.12221216, -4067131.27407843]])"
      ]
     },
     "execution_count": 60,
     "metadata": {},
     "output_type": "execute_result"
    }
   ],
   "source": [
    "s1[0][:,:3]"
   ]
  },
  {
   "cell_type": "code",
   "execution_count": 61,
   "metadata": {},
   "outputs": [
    {
     "data": {
      "text/plain": [
       "array([[       -0.        ,   3325468.23117019,   6637545.97547676],\n",
       "       [       -0.        ,   1439327.7386179 ,   2872859.81243415],\n",
       "       [       -0.        ,   -349854.23612012,   -698299.73271025],\n",
       "       [       -0.        ,  -2037668.12221216,  -4067131.27407843],\n",
       "       [       -0.        ,  -3620450.37229927,  -7226322.46876469],\n",
       "       [       -0.        ,  -5095398.9755893 , -10170280.57789321],\n",
       "       [       -0.        ,  -6460244.64282971, -12894476.16058584],\n",
       "       [       -0.        ,  -7713719.9147338 , -15396379.40188034],\n",
       "       [       -0.        ,  -8854875.32885422, -17674095.20003221],\n",
       "       [       -0.        ,  -9883876.76536227, -19727954.64744315],\n",
       "       [       -0.        , -10800995.92538143, -21558500.05231556],\n",
       "       [       -0.        , -11607706.87118015, -23168673.60365787],\n",
       "       [       -0.        , -12305383.59258651, -24561217.74855414],\n",
       "       [       -0.        , -12896663.75553787, -25741397.1979293 ],\n",
       "       [       -0.        , -13383888.77905976, -26713885.36176641],\n",
       "       [       -0.        , -13770700.60542165, -27485951.45978825],\n",
       "       [       -0.        , -14060261.56423247, -28063907.41762749],\n",
       "       [       -0.        , -14257048.50247208, -28456688.90256114],\n",
       "       [       -0.        , -14364890.80204939, -28671939.25883762],\n",
       "       [       -0.        , -14388925.42552763, -28719911.72684822],\n",
       "       [       -0.        , -14333491.82355575, -28609267.73445465],\n",
       "       [       -0.        , -14204211.31362309, -28351227.28157409],\n",
       "       [       -0.        , -14005777.32437361, -27955158.32671381],\n",
       "       [       -0.        , -13744122.96756783, -27432903.20284782]])"
      ]
     },
     "execution_count": 61,
     "metadata": {},
     "output_type": "execute_result"
    }
   ],
   "source": [
    "s1[1][:,:3]"
   ]
  },
  {
   "cell_type": "code",
   "execution_count": 62,
   "metadata": {},
   "outputs": [
    {
     "data": {
      "text/plain": [
       "array([[       -0.        , -14333491.82355575, -28609267.73445465],\n",
       "       [       -0.        , -14204211.31362309, -28351227.28157409],\n",
       "       [       -0.        , -14005777.32437361, -27955158.32671381],\n",
       "       [       -0.        , -13744122.96756783, -27432903.20284782],\n",
       "       [       -0.        , -13424144.19185034, -26794234.09300814],\n",
       "       [       -0.        , -13051920.35705446, -26051285.23742502],\n",
       "       [       -0.        , -12632406.49737375, -25213946.75231173],\n",
       "       [       -0.        , -12171673.07605292, -24294335.12054475],\n",
       "       [       -0.        , -11674601.78460233, -23302194.06829602],\n",
       "       [       -0.        , -11147112.34933596, -22249339.21154498],\n",
       "       [       -0.        , -10593894.22550565, -21145130.57801414],\n",
       "       [       -0.        , -10020590.24206305, -20000831.10392619],\n",
       "       [       -0.        ,  -9431594.30053145, -18825210.89963709],\n",
       "       [       -0.        ,  -8832163.67182751, -17628763.33780571],\n",
       "       [       -0.        ,  -8226310.49766847, -16419496.54638785],\n",
       "       [       -0.        ,  -7618816.57988176, -15206954.87441018],\n",
       "       [       -0.        ,  -7013244.22912474, -13998248.59901965],\n",
       "       [       -0.        ,  -6413829.2962429 , -12801832.36563092],\n",
       "       [       -0.        ,  -5823634.84337921, -11623819.96465975],\n",
       "       [       -0.        ,  -5246299.83977547, -10471474.68174499],\n",
       "       [       -0.        ,  -4684357.36977364,  -9349852.48573395],\n",
       "       [       -0.        ,  -4140817.73141414,  -8264961.8512997 ],\n",
       "       [       -0.        ,  -3617671.57130136,  -7220776.05601974],\n",
       "       [       -0.        ,  -3117286.96106416,  -6222021.70776312]])"
      ]
     },
     "execution_count": 62,
     "metadata": {},
     "output_type": "execute_result"
    }
   ],
   "source": [
    "s1[2][:,:3]"
   ]
  },
  {
   "cell_type": "code",
   "execution_count": null,
   "metadata": {},
   "outputs": [],
   "source": []
  }
 ],
 "metadata": {
  "kernelspec": {
   "display_name": "Python 3",
   "language": "python",
   "name": "python3"
  },
  "language_info": {
   "codemirror_mode": {
    "name": "ipython",
    "version": 3
   },
   "file_extension": ".py",
   "mimetype": "text/x-python",
   "name": "python",
   "nbconvert_exporter": "python",
   "pygments_lexer": "ipython3",
   "version": "3.9.18"
  }
 },
 "nbformat": 4,
 "nbformat_minor": 2
}
