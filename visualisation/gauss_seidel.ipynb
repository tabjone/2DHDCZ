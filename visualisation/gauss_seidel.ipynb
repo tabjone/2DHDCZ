{
 "cells": [
  {
   "attachments": {},
   "cell_type": "markdown",
   "metadata": {},
   "source": [
    "# Gauss-Seidel problem"
   ]
  },
  {
   "attachments": {},
   "cell_type": "markdown",
   "metadata": {},
   "source": [
    "**Initial conditions are symmetrical and we have periodic boundary conditions in both directions with no gravity. We now look at the first time-step with Jacobi and Gauss-Seidel**\n",
    "\n",
    "![Sample Image](gauss_jacobi/IC.png)"
   ]
  },
  {
   "attachments": {},
   "cell_type": "markdown",
   "metadata": {},
   "source": [
    "**Jacobi**\n",
    "\n",
    "![Sample Image](gauss_jacobi/jacobi_code.png)\n",
    "\n",
    "![Sample Image](gauss_jacobi/jacobi_plot.png)"
   ]
  },
  {
   "attachments": {},
   "cell_type": "markdown",
   "metadata": {},
   "source": [
    "**In Jacobi we see that the first time-step is symmetric**\n",
    "\n",
    "**Then we use pnew for the [i-1] term**\n",
    "\n",
    "![Sample Image](gauss_jacobi/j_minus_term_code.png)\n",
    "\n",
    "![Sample Image](gauss_jacobi/j_minus_term_plot.png)"
   ]
  },
  {
   "attachments": {},
   "cell_type": "markdown",
   "metadata": {},
   "source": [
    "**We see that this breaks the symmetry in the z-direction**\n",
    "\n",
    "**Now using pnew for the [j-1] term**\n",
    "\n",
    "![Sample Image](gauss_jacobi/i_minus_term_code.png)\n",
    "\n",
    "![Sample Image](gauss_jacobi/i_minus_term_plot.png)"
   ]
  },
  {
   "attachments": {},
   "cell_type": "markdown",
   "metadata": {},
   "source": [
    "**We see that this breaks the symmetry in the x-direction**\n",
    "\n",
    "**Then Gauss-Seidel, where both the [j-1] and [i-1] term use pnew**\n",
    "\n",
    "![Sample Image](gauss_jacobi/gauss-seidel_code.png)\n",
    "\n",
    "![Sample Image](gauss_jacobi/gauss-seidel_plot.png)"
   ]
  },
  {
   "attachments": {},
   "cell_type": "markdown",
   "metadata": {},
   "source": [
    "**This breaks the symmetry in the z- and x-direction**"
   ]
  },
  {
   "attachments": {},
   "cell_type": "markdown",
   "metadata": {},
   "source": []
  }
 ],
 "metadata": {
  "kernelspec": {
   "display_name": "Python 3",
   "language": "python",
   "name": "python3"
  },
  "language_info": {
   "codemirror_mode": {
    "name": "ipython",
    "version": 3
   },
   "file_extension": ".py",
   "mimetype": "text/x-python",
   "name": "python",
   "nbconvert_exporter": "python",
   "pygments_lexer": "ipython3",
   "version": "3.11.5"
  },
  "orig_nbformat": 4
 },
 "nbformat": 4,
 "nbformat_minor": 2
}
