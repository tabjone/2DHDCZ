{
 "cells": [
  {
   "cell_type": "code",
   "execution_count": 1,
   "metadata": {},
   "outputs": [],
   "source": [
    "import numpy as np\n",
    "import matplotlib.pyplot as plt\n",
    "import h5py\n",
    "\n",
    "R_SUN = 6.957e10"
   ]
  },
  {
   "cell_type": "code",
   "execution_count": 2,
   "metadata": {},
   "outputs": [],
   "source": [
    "def read_solar_S_hdf5(file_path):\n",
    "    with h5py.File(file_path, 'r') as f:\n",
    "        r_over_R = np.array(f['/r_over_R'])\n",
    "        c_s = np.array(f['/c_s'])\n",
    "        Gamma_1 = np.array(f['/Gamma_1'])\n",
    "        T0 = np.array(f['/T'])\n",
    "        rho0 = np.array(f['/rho'])\n",
    "        p0 = np.array(f['/p'])\n",
    "\n",
    "        variables = {'r_over_R': r_over_R, 'c_s': c_s, 'Gamma_1': Gamma_1, 'T0': T0, 'rho0': rho0, 'p0': p0}\n",
    "    return variables"
   ]
  },
  {
   "cell_type": "code",
   "execution_count": 3,
   "metadata": {},
   "outputs": [],
   "source": [
    "solar_S = read_solar_S_hdf5('../additional_files/solar_s.h5')"
   ]
  },
  {
   "cell_type": "code",
   "execution_count": 46,
   "metadata": {},
   "outputs": [
    {
     "data": {
      "text/plain": [
       "False"
      ]
     },
     "execution_count": 46,
     "metadata": {},
     "output_type": "execute_result"
    }
   ],
   "source": [
    "1000*dz == R_END"
   ]
  },
  {
   "cell_type": "code",
   "execution_count": null,
   "metadata": {},
   "outputs": [],
   "source": [
    "N-1 = T/dt\n",
    "dt = T(N-1)"
   ]
  },
  {
   "cell_type": "code",
   "execution_count": 68,
   "metadata": {},
   "outputs": [
    {
     "data": {
      "text/plain": [
       "3.454447717901035e-14"
      ]
     },
     "execution_count": 68,
     "metadata": {},
     "output_type": "execute_result"
    }
   ],
   "source": [
    "(999*dz + R_START - R_END)/R_SUN"
   ]
  },
  {
   "cell_type": "code",
   "execution_count": 84,
   "metadata": {},
   "outputs": [
    {
     "data": {
      "text/plain": [
       "0.0"
      ]
     },
     "execution_count": 84,
     "metadata": {},
     "output_type": "execute_result"
    }
   ],
   "source": [
    "R_START = 0.80 * R_SUN\n",
    "R_END   = 0.90 * R_SUN\n",
    "\n",
    "L_z = R_END - R_START\n",
    "N = 1000\n",
    "dz = L_z / (N-1)\n",
    "999*dz + R_START - R_END"
   ]
  },
  {
   "cell_type": "code",
   "execution_count": 50,
   "metadata": {},
   "outputs": [],
   "source": [
    "R_START = 0.80 * R_SUN\n",
    "R_END   = 0.90 * R_SUN\n",
    "\n",
    "z = np.linspace(R_START, R_END, 1000)\n",
    "dz = z[1] - z[0]\n",
    "\n",
    "wanted_integration_start = 0.97 * R_SUN\n",
    "# Find closest multiple of dz to wanted_integration_start\n",
    "integration_start = R_START # This is the radius where we start integrating\n",
    "while integration_start < wanted_integration_start:\n",
    "    integration_start += dz\n",
    "\n",
    "# Find index of integration_start in the solar S data using while loop\n",
    "i = 0\n",
    "while solar_S['r_over_R'][i] > integration_start / R_SUN:\n",
    "    i += 1"
   ]
  },
  {
   "cell_type": "code",
   "execution_count": 5,
   "metadata": {},
   "outputs": [],
   "source": [
    "r_before = solar_S['r_over_R'][i] * R_SUN\n",
    "r_after = solar_S['r_over_R'][i-1] * R_SUN\n",
    "rho0_before = solar_S['rho0'][i]\n",
    "rho0_after = solar_S['rho0'][i-1]\n",
    "p0_before = solar_S['p0'][i]\n",
    "p0_after = solar_S['p0'][i-1]\n",
    "T0_before = solar_S['T0'][i]\n",
    "T0_after = solar_S['T0'][i-1]\n",
    "\n",
    "# Linear interpolation\n",
    "rho0 = rho0_before + (rho0_after - rho0_before) / (r_after - r_before) * (integration_start - r_before)\n",
    "p0 = p0_before + (p0_after - p0_before) / (r_after - r_before) * (integration_start - r_before)\n",
    "T0 = T0_before + (T0_after - T0_before) / (r_after - r_before) * (integration_start - r_before)\n",
    "\n",
    "initial_value_index = i"
   ]
  },
  {
   "cell_type": "code",
   "execution_count": 6,
   "metadata": {},
   "outputs": [],
   "source": [
    "solar_s_size = 2482\n",
    "\n",
    "m_initial = 0.0\n",
    "C = 4 * np.pi * R_SUN**3\n",
    "#backward integration\n",
    "for i in range(solar_s_size-2, initial_value_index-1, -1):\n",
    "    dr = solar_S['r_over_R'][i] - solar_S['r_over_R'][i+1]\n",
    "    m_initial += C * 0.5 * (solar_S['rho0'][i] * solar_S['r_over_R'][i]**2 + solar_S['rho0'][i+1] * solar_S['r_over_R'][i+1]**2) * dr\n",
    "\n",
    "# mass at the last interpolation point\n",
    "m_initial += C * 0.5 * (rho0 * (integration_start/R_SUN)**2 + solar_S['rho0'][initial_value_index] * (solar_S['r_over_R'][initial_value_index])**2) * (integration_start / R_SUN - solar_S['r_over_R'][initial_value_index])"
   ]
  },
  {
   "cell_type": "code",
   "execution_count": 11,
   "metadata": {},
   "outputs": [],
   "source": [
    "INTEGRATION_END_TOP = 1.1 * R_SUN\n",
    "INTEGRATION_END_BOTTOM = 0.65 * R_SUN\n",
    "\n",
    "r_up = [integration_start]\n",
    "while r_up[-1] < INTEGRATION_END_TOP:\n",
    "    r_up.append(r_up[-1] + dz)\n",
    "\n",
    "r_down = [integration_start]\n",
    "while r_down[-1] > INTEGRATION_END_BOTTOM:\n",
    "    r_down.append(r_down[-1] - dz)\n",
    "\n",
    "r_up = np.array(r_up)\n",
    "r_down = np.array(r_down)\n",
    "\n",
    "r  = np.concatenate((r_down[::-1], r_up[1:]))"
   ]
  },
  {
   "cell_type": "code",
   "execution_count": 78,
   "metadata": {},
   "outputs": [],
   "source": [
    "value_start_index = np.where(np.abs(r-R_START)< 1.0)[0][0]"
   ]
  },
  {
   "cell_type": "code",
   "execution_count": 82,
   "metadata": {},
   "outputs": [
    {
     "data": {
      "text/plain": [
       "(0.0, 10.0)"
      ]
     },
     "execution_count": 82,
     "metadata": {},
     "output_type": "execute_result"
    },
    {
     "data": {
      "image/png": "[encoded data removed]",
      "text/plain": [
       "<Figure size 640x480 with 1 Axes>"
      ]
     },
     "metadata": {},
     "output_type": "display_data"
    }
   ],
   "source": [
    "plt.plot(np.arange(len(r)-value_start_index), r[value_start_index:]/R_SUN, 'o')\n",
    "plt.plot(np.arange(len(z)), z/R_SUN, 'o')\n",
    "plt.xlim(0,10)"
   ]
  },
  {
   "cell_type": "code",
   "execution_count": 23,
   "metadata": {},
   "outputs": [
    {
     "data": {
      "text/plain": [
       "2999"
      ]
     },
     "execution_count": 23,
     "metadata": {},
     "output_type": "execute_result"
    }
   ],
   "source": [
    "len(np.where(r>=R_START)[0])"
   ]
  },
  {
   "cell_type": "code",
   "execution_count": 35,
   "metadata": {},
   "outputs": [
    {
     "data": {
      "text/plain": [
       "1499"
      ]
     },
     "execution_count": 35,
     "metadata": {},
     "output_type": "execute_result"
    }
   ],
   "source": [
    "np.where(r>=R_START)[0]"
   ]
  },
  {
   "cell_type": "code",
   "execution_count": 40,
   "metadata": {},
   "outputs": [
    {
     "data": {
      "text/plain": [
       "2999"
      ]
     },
     "execution_count": 40,
     "metadata": {},
     "output_type": "execute_result"
    }
   ],
   "source": [
    "N_"
   ]
  },
  {
   "cell_type": "code",
   "execution_count": 37,
   "metadata": {},
   "outputs": [],
   "source": [
    "N_ = len(np.where(r>=R_START)[0])"
   ]
  },
  {
   "cell_type": "code",
   "execution_count": 43,
   "metadata": {},
   "outputs": [
    {
     "data": {
      "text/plain": [
       "array([], dtype=int64)"
      ]
     },
     "execution_count": 43,
     "metadata": {},
     "output_type": "execute_result"
    }
   ],
   "source": [
    "np.where(r==R_END)[0]"
   ]
  },
  {
   "cell_type": "code",
   "execution_count": 42,
   "metadata": {},
   "outputs": [
    {
     "ename": "TypeError",
     "evalue": "only integer scalar arrays can be converted to a scalar index",
     "output_type": "error",
     "traceback": [
      "\u001b[0;31m---------------------------------------------------------------------------\u001b[0m",
      "\u001b[0;31mTypeError\u001b[0m                                 Traceback (most recent call last)",
      "\u001b[1;32m/uio/hume/student-u58/tabjone/anelastic_mhd_solver/changing_bg/change_bg.ipynb Cell 12\u001b[0m line \u001b[0;36m1\n\u001b[0;32m----> <a href='vscode-notebook-cell://ssh-remote%2Bworkstation/uio/hume/student-u58/tabjone/anelastic_mhd_solver/changing_bg/change_bg.ipynb#X25sdnNjb2RlLXJlbW90ZQ%3D%3D?line=0'>1</a>\u001b[0m r[np\u001b[39m.\u001b[39;49mwhere(r\u001b[39m>\u001b[39;49m\u001b[39m=\u001b[39;49mR_START)[\u001b[39m0\u001b[39;49m]:np\u001b[39m.\u001b[39;49mwhere(r\u001b[39m==\u001b[39;49mR_END)[\u001b[39m0\u001b[39;49m]]\n",
      "\u001b[0;31mTypeError\u001b[0m: only integer scalar arrays can be converted to a scalar index"
     ]
    }
   ],
   "source": [
    "r[np.where(r>=R_START)[0]:np.where(r==R_END)[0]]"
   ]
  },
  {
   "cell_type": "code",
   "execution_count": 41,
   "metadata": {},
   "outputs": [
    {
     "data": {
      "text/plain": [
       "[<matplotlib.lines.Line2D at 0x7fca418dedc0>]"
      ]
     },
     "execution_count": 41,
     "metadata": {},
     "output_type": "execute_result"
    },
    {
     "data": {
      "image/png": "[encoded data removed]",
      "text/plain": [
       "<Figure size 640x480 with 1 Axes>"
      ]
     },
     "metadata": {},
     "output_type": "display_data"
    }
   ],
   "source": []
  },
  {
   "cell_type": "code",
   "execution_count": 28,
   "metadata": {},
   "outputs": [
    {
     "name": "stdout",
     "output_type": "stream",
     "text": [
      "False\n"
     ]
    }
   ],
   "source": [
    "print(solar_S['r_over_R'][i-1] < integration_start / R_SUN)"
   ]
  },
  {
   "cell_type": "code",
   "execution_count": 12,
   "metadata": {},
   "outputs": [
    {
     "data": {
      "text/plain": [
       "array([0.       , 0.0013911, 0.0014098, ..., 1.0006968, 1.0007047,\n",
       "       1.0007126])"
      ]
     },
     "execution_count": 12,
     "metadata": {},
     "output_type": "execute_result"
    }
   ],
   "source": [
    "solar_S['r_over_R']"
   ]
  },
  {
   "cell_type": "code",
   "execution_count": 89,
   "metadata": {},
   "outputs": [],
   "source": [
    "#define R_START 0.70 // In units of solar radii\n",
    "#define R_END 0.97 // In units of solar radii\n",
    "#define X_SIZE 0.1 // In units of solar radii\n",
    "#define Y_SIZE 0.1 // In units of solar radii\n",
    "#define NX 400 // Number of grid points in x-direction\n",
    "#define NY 20 // Number of grid points in y-direction\n",
    "#define NZ 20 // Number of grid points in z-direction\n",
    "\n",
    "#define R_SUN 6.957e10 // solar radius [cm]\n",
    "\n",
    "# Har disse variablene å leke med og vil sørge for at dz=1000cm\n",
    "\n",
    "R_START = 0.7\n",
    "R_END = 0.9\n",
    "\n",
    "Z_SIZE = (R_END - R_START)"
   ]
  },
  {
   "cell_type": "code",
   "execution_count": 106,
   "metadata": {},
   "outputs": [
    {
     "data": {
      "text/plain": [
       "19.000000000000007"
      ]
     },
     "execution_count": 106,
     "metadata": {},
     "output_type": "execute_result"
    }
   ],
   "source": [
    "dz = 0.01\n",
    "\n",
    "N = Z_SIZE/dz - 1\n",
    "N"
   ]
  },
  {
   "cell_type": "code",
   "execution_count": 103,
   "metadata": {},
   "outputs": [
    {
     "data": {
      "text/plain": [
       "0.20000000000000007"
      ]
     },
     "execution_count": 103,
     "metadata": {},
     "output_type": "execute_result"
    }
   ],
   "source": [
    "(0.9 - 0.7)"
   ]
  },
  {
   "cell_type": "code",
   "execution_count": 100,
   "metadata": {},
   "outputs": [
    {
     "data": {
      "text/plain": [
       "1.0"
      ]
     },
     "execution_count": 100,
     "metadata": {},
     "output_type": "execute_result"
    }
   ],
   "source": [
    "0.2/0.1 - 1"
   ]
  },
  {
   "cell_type": "code",
   "execution_count": 113,
   "metadata": {},
   "outputs": [
    {
     "data": {
      "text/latex": [
       "$20.871 \\; \\mathrm{Mm}$"
      ],
      "text/plain": [
       "<Quantity 20.871 Mm>"
      ]
     },
     "execution_count": 113,
     "metadata": {},
     "output_type": "execute_result"
    }
   ],
   "source": [
    "from astropy import units as u\n",
    "(0.03*u.R_sun).to(\"Mm\")"
   ]
  },
  {
   "cell_type": "code",
   "execution_count": 111,
   "metadata": {},
   "outputs": [
    {
     "data": {
      "text/plain": [
       "1.963261989714118e-26"
      ]
     },
     "execution_count": 111,
     "metadata": {},
     "output_type": "execute_result"
    }
   ],
   "source": [
    "G = 6.6743e-8 \n",
    "m_i = 1986396393311409422587744609107968\n",
    "r_i = 67545722408**2\n",
    "rho_i = 0.003164\n",
    "T_i = 154444\n",
    "p_i = 63411713243\n",
    "\n",
    "dp_dr = G * m_i / r_i**2 * rho_i\n",
    "\n",
    "0.4*T_i/p_i * dp_dr"
   ]
  },
  {
   "cell_type": "code",
   "execution_count": 112,
   "metadata": {},
   "outputs": [
    {
     "data": {
      "text/plain": [
       "57647012743"
      ]
     },
     "execution_count": 112,
     "metadata": {},
     "output_type": "execute_result"
    }
   ],
   "source": [
    "63411713243-5764700500"
   ]
  },
  {
   "cell_type": "code",
   "execution_count": null,
   "metadata": {},
   "outputs": [],
   "source": []
  }
 ],
 "metadata": {
  "kernelspec": {
   "display_name": "Python 3",
   "language": "python",
   "name": "python3"
  },
  "language_info": {
   "codemirror_mode": {
    "name": "ipython",
    "version": 3
   },
   "file_extension": ".py",
   "mimetype": "text/x-python",
   "name": "python",
   "nbconvert_exporter": "python",
   "pygments_lexer": "ipython3",
   "version": "3.9.18"
  }
 },
 "nbformat": 4,
 "nbformat_minor": 2
}
