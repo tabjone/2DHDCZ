{
 "cells": [
  {
   "cell_type": "code",
   "execution_count": 8,
   "id": "924708e6",
   "metadata": {},
   "outputs": [
    {
     "ename": "ModuleNotFoundError",
     "evalue": "No module named 'norms'",
     "output_type": "error",
     "traceback": [
      "\u001b[0;31m---------------------------------------------------------------------------\u001b[0m",
      "\u001b[0;31mModuleNotFoundError\u001b[0m                       Traceback (most recent call last)",
      "Cell \u001b[0;32mIn[8], line 8\u001b[0m\n\u001b[1;32m      6\u001b[0m sys\u001b[38;5;241m.\u001b[39mpath\u001b[38;5;241m.\u001b[39minsert(\u001b[38;5;241m0\u001b[39m, \u001b[38;5;124m'\u001b[39m\u001b[38;5;124m../modules\u001b[39m\u001b[38;5;124m'\u001b[39m)\n\u001b[1;32m      7\u001b[0m \u001b[38;5;66;03m# Function to compute an error in L2 norm\u001b[39;00m\n\u001b[0;32m----> 8\u001b[0m \u001b[38;5;28;01mfrom\u001b[39;00m \u001b[38;5;21;01mnorms\u001b[39;00m \u001b[38;5;28;01mimport\u001b[39;00m l2_diff\n\u001b[1;32m     10\u001b[0m get_ipython()\u001b[38;5;241m.\u001b[39mrun_line_magic(\u001b[38;5;124m'\u001b[39m\u001b[38;5;124mmatplotlib\u001b[39m\u001b[38;5;124m'\u001b[39m, \u001b[38;5;124m'\u001b[39m\u001b[38;5;124minline\u001b[39m\u001b[38;5;124m'\u001b[39m)\n\u001b[1;32m     12\u001b[0m plt\u001b[38;5;241m.\u001b[39mstyle\u001b[38;5;241m.\u001b[39muse(\u001b[38;5;124m'\u001b[39m\u001b[38;5;124m../styles/mainstyle.use\u001b[39m\u001b[38;5;124m'\u001b[39m)\n",
      "\u001b[0;31mModuleNotFoundError\u001b[0m: No module named 'norms'"
     ]
    }
   ],
   "source": [
    "import numpy as np\n",
    "import matplotlib.pyplot as plt\n",
    "from scipy.sparse import diags\n",
    "\n",
    "import sys\n",
    "sys.path.insert(0, '../modules')\n",
    "# Function to compute an error in L2 norm\n",
    "from norms import l2_diff\n",
    "\n",
    "%matplotlib inline\n",
    "\n",
    "plt.style.use('../styles/mainstyle.use')"
   ]
  },
  {
   "cell_type": "code",
   "execution_count": 2,
   "id": "38193a08",
   "metadata": {},
   "outputs": [],
   "source": [
    "# Grid parameters.\n",
    "nx = 101                  # number of points in the x direction\n",
    "ny = 101                  # number of points in the y direction\n",
    "xmin, xmax = 0.0, 1.0     # limits in the x direction\n",
    "ymin, ymax = -0.5, 0.5    # limits in the y direction\n",
    "lx = xmax - xmin          # domain length in the x direction\n",
    "ly = ymax - ymin          # domain length in the y direction\n",
    "dx = lx / (nx-1)          # grid spacing in the x direction\n",
    "dy = ly / (ny-1)          # grid spacing in the y direction"
   ]
  },
  {
   "cell_type": "code",
   "execution_count": 3,
   "id": "c0280d87",
   "metadata": {},
   "outputs": [],
   "source": [
    "# Create the gridline locations and the mesh grid;\n",
    "# see notebook 02_02_Runge_Kutta for more details\n",
    "x = np.linspace(xmin, xmax, nx)\n",
    "y = np.linspace(ymin, ymax, ny)\n",
    "# We pass the argument `indexing='ij'` to np.meshgrid\n",
    "# as x and y should be associated respectively with the\n",
    "# rows and columns of X, Y.\n",
    "X, Y = np.meshgrid(x, y, indexing='ij')\n",
    "\n",
    "# Compute the rhs. Note that we non-dimensionalize the coordinates\n",
    "# x and y with the size of the domain in their respective dire-\n",
    "# ctions.\n",
    "b = (np.sin(np.pi*X)*np.cos(np.pi*Y)\n",
    "  + np.sin(5.0*np.pi*X)*np.cos(5.0*np.pi*Y))\n",
    "\n",
    "# b is currently a 2D array. We need to convert it to a column-major\n",
    "# ordered 1D array. This is done with the flatten numpy function.\n",
    "# We use the parameter 'F' to specify that we want want column-major\n",
    "# ordering. The letter 'F' is used because this is the natural\n",
    "# ordering of the popular Fortran language. For row-major\n",
    "# ordering you can pass 'C' as paremeter, which is the natural\n",
    "# ordering for the C language.\n",
    "# More info\n",
    "# https://numpy.org/doc/stable/reference/generated/numpy.ndarray.flatten.html\n",
    "bflat = b[1:-1, 1:-1].flatten('F')\n",
    "\n",
    "# Allocate array for the (full) solution, including boundary values\n",
    "p = np.empty((nx, ny))"
   ]
  },
  {
   "cell_type": "code",
   "execution_count": 4,
   "id": "2a8c9bae",
   "metadata": {},
   "outputs": [],
   "source": [
    "def d2_mat_dirichlet_2d(nx, ny, dx, dy):\n",
    "    \"\"\"\n",
    "    Constructs the matrix for the centered second-order accurate\n",
    "    second-order derivative for Dirichlet boundary conditions in 2D\n",
    "\n",
    "    Parameters\n",
    "    ----------\n",
    "    nx : integer\n",
    "        number of grid points in the x direction\n",
    "    ny : integer\n",
    "        number of grid points in the y direction\n",
    "    dx : float\n",
    "        grid spacing in the x direction\n",
    "    dy : float\n",
    "        grid spacing in the y direction\n",
    "\n",
    "    Returns\n",
    "    -------\n",
    "    d2mat : numpy.ndarray\n",
    "        matrix to compute the centered second-order accurate first-order deri-\n",
    "        vative with Dirichlet boundary conditions\n",
    "    \"\"\"\n",
    "    a = 1.0 / dx**2\n",
    "    g = 1.0 / dy**2\n",
    "    c = -2.0*a - 2.0*g\n",
    "\n",
    "    diag_a = a * np.ones((nx-2)*(ny-2)-1)\n",
    "    diag_a[nx-3::nx-2] = 0.0\n",
    "    diag_g = g * np.ones((nx-2)*(ny-3))\n",
    "    diag_c = c * np.ones((nx-2)*(ny-2))\n",
    "\n",
    "    # We construct a sequence of main diagonal elements,\n",
    "    diagonals = [diag_g, diag_a, diag_c, diag_a, diag_g]\n",
    "    # and a sequence of positions of the diagonal entries relative to the main\n",
    "    # diagonal.\n",
    "    offsets = [-(nx-2), -1, 0, 1, nx-2]\n",
    "\n",
    "    # Call to the diags routine; note that diags return a representation of the\n",
    "    # array; to explicitly obtain its ndarray realisation, the call to .toarray()\n",
    "    # is needed. Note how the matrix has dimensions (nx-2)*(nx-2).\n",
    "    d2mat = diags(diagonals, offsets).toarray()\n",
    "\n",
    "    # Return the final array\n",
    "    return d2mat"
   ]
  },
  {
   "cell_type": "code",
   "execution_count": 5,
   "id": "6fcb8ce6",
   "metadata": {},
   "outputs": [],
   "source": [
    "tolerance = 1e-10\n",
    "max_iter = 10000\n",
    "\n",
    "p0 = np.zeros((nx, ny))\n",
    "pnew = p0.copy()"
   ]
  },
  {
   "cell_type": "code",
   "execution_count": 6,
   "id": "a657d21e",
   "metadata": {},
   "outputs": [
    {
     "ename": "NameError",
     "evalue": "name 'tqdm' is not defined",
     "output_type": "error",
     "traceback": [
      "\u001b[0;31m---------------------------------------------------------------------------\u001b[0m",
      "\u001b[0;31mNameError\u001b[0m                                 Traceback (most recent call last)",
      "Cell \u001b[0;32mIn[6], line 1\u001b[0m\n\u001b[0;32m----> 1\u001b[0m pbar \u001b[38;5;241m=\u001b[39m \u001b[43mtqdm\u001b[49m(total\u001b[38;5;241m=\u001b[39mmax_it)\n\u001b[1;32m      2\u001b[0m pbar\u001b[38;5;241m.\u001b[39mset_description(\u001b[38;5;124m\"\u001b[39m\u001b[38;5;124mit / max_it\u001b[39m\u001b[38;5;124m\"\u001b[39m)\n\u001b[1;32m      4\u001b[0m it \u001b[38;5;241m=\u001b[39m \u001b[38;5;241m0\u001b[39m \u001b[38;5;66;03m# iteration counter\u001b[39;00m\n",
      "\u001b[0;31mNameError\u001b[0m: name 'tqdm' is not defined"
     ]
    }
   ],
   "source": [
    "pbar = tqdm(total=max_it)\n",
    "pbar.set_description(\"it / max_it\")\n",
    "\n",
    "it = 0 # iteration counter\n",
    "diff = 1.0\n",
    "tol_hist_gs = []\n",
    "while (diff > tolerance):\n",
    "    if it > max_it:\n",
    "        print('\\nSolution did not converged within the maximum'\n",
    "              ' number of iterations'\n",
    "              f'\\nLast l2_diff was: {diff:.5e}')\n",
    "        break\n",
    "\n",
    "    np.copyto(p, pnew)\n",
    "\n",
    "    # We only modify interior nodes. The boundary nodes remain equal to\n",
    "    # zero and the Dirichlet boundary conditions are therefore automatically\n",
    "    # enforced.\n",
    "    for j in range(1, ny-1):\n",
    "        for i in range(1, nx-1):\n",
    "            pnew[i, j] = (0.25 * (pnew[i-1, j]+p[i+1, j]+pnew[i, j-1]\n",
    "                       + p[i, j+1]-b[i, j]*dx**2))\n",
    "\n",
    "    diff = l2_diff(pnew, p)\n",
    "    tol_hist_gs.append(diff)\n",
    "\n",
    "    it += 1\n",
    "    pbar.update(1)\n",
    "\n",
    "else:\n",
    "    print(f'\\nThe solution converged after {it} iterations')\n",
    "\n",
    "del(pbar)"
   ]
  },
  {
   "cell_type": "code",
   "execution_count": null,
   "id": "2f0ff288",
   "metadata": {},
   "outputs": [],
   "source": []
  }
 ],
 "metadata": {
  "kernelspec": {
   "display_name": "Python 3 (ipykernel)",
   "language": "python",
   "name": "python3"
  },
  "language_info": {
   "codemirror_mode": {
    "name": "ipython",
    "version": 3
   },
   "file_extension": ".py",
   "mimetype": "text/x-python",
   "name": "python",
   "nbconvert_exporter": "python",
   "pygments_lexer": "ipython3",
   "version": "3.11.3"
  }
 },
 "nbformat": 4,
 "nbformat_minor": 5
}
