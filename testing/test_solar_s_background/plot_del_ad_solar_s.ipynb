{
 "cells": [
  {
   "cell_type": "code",
   "execution_count": 2,
   "id": "7b1d3c1e",
   "metadata": {},
   "outputs": [],
   "source": [
    "import matplotlib.pyplot as plt\n",
    "import h5py\n",
    "import numpy as np"
   ]
  },
  {
   "cell_type": "code",
   "execution_count": 8,
   "id": "d4dd0479",
   "metadata": {},
   "outputs": [],
   "source": [
    "def read_solar_S_hdf5(file_path):\n",
    "    with h5py.File(file_path, 'r') as f:\n",
    "        r_over_R = np.array(f['/r_over_R'])\n",
    "        c_s = np.array(f['/c_s'])\n",
    "        Gamma_1 = np.array(f['/Gamma_1'])\n",
    "        T0 = np.array(f['/T'])\n",
    "        rho0 = np.array(f['/rho'])\n",
    "        p0 = np.array(f['/p'])\n",
    "        \n",
    "        #flipping arrays so they start at r/R = 0 and ends at 1.\n",
    "        #strictly not necessary for calculations \n",
    "        r_over_R = np.flip(r_over_R)\n",
    "        c_s = np.flip(c_s)\n",
    "        Gamma_1 = np.flip(Gamma_1)\n",
    "        T0 = np.flip(T0)\n",
    "        rho0 = np.flip(rho0)\n",
    "        p0 = np.flip(p0)\n",
    "\n",
    "    return r_over_R, c_s, Gamma_1, T0, rho0, p0\n",
    "\n",
    "r_over_R, c_s, Gamma_1, T0, rho0, p0\\\n",
    "    =read_solar_S_hdf5(\"../../additional_files/solar_s.h5\")"
   ]
  },
  {
   "cell_type": "markdown",
   "id": "85308203",
   "metadata": {},
   "source": [
    "Using the following formulas.\n",
    "\n",
    "\n",
    "$$\n",
    "\\delta_p = (\\partial \\ln \\rho / \\ln T)_p \\Leftrightarrow \\delta_p = \\frac{T}{\\rho}\\frac{\\partial\\rho}{\\partial T}\n",
    "$$"
   ]
  }
 ],
 "metadata": {
  "kernelspec": {
   "display_name": "Python 3 (ipykernel)",
   "language": "python",
   "name": "python3"
  },
  "language_info": {
   "codemirror_mode": {
    "name": "ipython",
    "version": 3
   },
   "file_extension": ".py",
   "mimetype": "text/x-python",
   "name": "python",
   "nbconvert_exporter": "python",
   "pygments_lexer": "ipython3",
   "version": "3.11.3"
  }
 },
 "nbformat": 4,
 "nbformat_minor": 5
}
