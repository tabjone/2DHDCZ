{
 "cells": [
  {
   "cell_type": "code",
   "execution_count": 5,
   "id": "d6899ec6",
   "metadata": {},
   "outputs": [],
   "source": [
    "import numpy as np\n",
    "import matplotlib.pyplot as plt\n",
    "import astropy.units as u\n",
    "import h5py\n",
    "import astropy.constants as const"
   ]
  },
  {
   "cell_type": "code",
   "execution_count": 36,
   "id": "6451d26b",
   "metadata": {},
   "outputs": [],
   "source": [
    "def read_hdf5_file_raw(file_path):\n",
    "    with h5py.File(file_path, 'r') as f:\n",
    "        r_over_R = np.array(f['/r_over_R'])\n",
    "        c_s = np.array(f['/c_s']) * u.cm/u.s\n",
    "        Gamma_1 = np.array(f['/Gamma_1'])\n",
    "        T0 = np.array(f['/T']) * u.K\n",
    "        rho0 = np.array(f['/rho']) * u.g/(u.cm**3)\n",
    "        p0 = np.array(f['/p']) * u.dyn/(u.cm**2)\n",
    "        \n",
    "        r_over_R = np.flip(r_over_R)\n",
    "        c_s = np.flip(c_s)\n",
    "        Gamma_1 = np.flip(Gamma_1)\n",
    "        T0 = np.flip(T0)\n",
    "        rho0 = np.flip(rho0)\n",
    "        p0 = np.flip(p0)\n",
    "\n",
    "    return r_over_R, c_s, Gamma_1, T0, rho0, p0\n",
    "\n",
    "r_over_R, c_s, Gamma_1, T0, rho0, p0 =\\\n",
    "    read_hdf5_file_raw(\"../../additional_files/solar_s.h5\")"
   ]
  },
  {
   "cell_type": "markdown",
   "id": "13d39d38",
   "metadata": {},
   "source": [
    "In terms of the unitless variable $r'=r/R_*$, which we will just call $r$ in the following, we have that the infidesimal volume of a shell is \n",
    "\n",
    "$$\n",
    "dV = 4\\pi R_*^3 r^2 dr\n",
    "$$\n",
    "\n",
    "and then get that the mass\n",
    "$$\n",
    "M(r) = \\int_0^r dm = \\int_0^r \\rho(r) dV = 4\\pi R_*^3 \\int_0^r \\rho(r) r^2 dr\n",
    "$$\n",
    "\n",
    "This gives us the gravitational acceleration (Newton)\n",
    "\n",
    "$$\n",
    "g(r) = \\frac{GM(r)}{r^2 R_*^2} = \\frac{4\\pi R_* G}{r^2}\\int_0^r \\rho(r) r^2 dr.\n",
    "$$\n",
    "\n",
    "Calling $\\rho(r) r^2=f(r)$\n",
    "\n",
    "$$\n",
    "g(r_{i+1})=\\frac{4\\pi R_* G}{r_{i+1}^2}\\frac{1}{2}(\\rho_{i+1} r_{i+1}^2-\\rho_i r_i^2)(r_{i+1}-r_{i})\n",
    "$$\n",
    "\n",
    "\n",
    "\n",
    "We approximate the integral with a Riemann sum\n",
    "\n",
    "$$\n",
    "g(r_{j}) = \\frac{4\\pi R_* G}{r_j^2}\\sum _{i=0}^j \\rho_i r_i^2 (r_{i}-r_{i-1})\n",
    "$$"
   ]
  },
  {
   "cell_type": "code",
   "execution_count": 37,
   "id": "bbd9ea27",
   "metadata": {},
   "outputs": [],
   "source": [
    "R_sun = 6.957e10 * u.cm\n",
    "M_sun = 1.989e33 * u.gram\n",
    "G = 6.6743e-8 * u.cm**3 /(u.gram * u.s * u.s)\n",
    "\n",
    "nz = len(r_over_R)"
   ]
  },
  {
   "cell_type": "code",
   "execution_count": 101,
   "id": "e14f9332",
   "metadata": {},
   "outputs": [
    {
     "name": "stdout",
     "output_type": "stream",
     "text": [
      "2336214497.0211463 cm4 / (g s2)\n",
      "2336214497.0211463 cm4 / (g s2) 0.0028765143950000016 g / cm3\n"
     ]
    }
   ],
   "source": [
    "g = np.zeros(nz) * u.cm / (u.s**2)\n",
    "# we let g[0] = 0, M(r=0)=0\n",
    "\n",
    "for i in range(0, nz-1):\n",
    "    dr = r_over_R[i+1] - r_over_R[i]\n",
    "    if (i==1):   \n",
    "        print(r_over_R[i+1]**(-2) * R_sun*G)\n",
    "        print(R_sun * G /(r_over_R[i+1]**2), (rho0[i+1]*r_over_R[i+1]-rho0[i]*r_over_R[i]))\n",
    "    g[i+1] = 4 * np.pi * R_sun * G /(r_over_R[i+1]**2) *0.5*(rho0[i+1]*r_over_R[i+1]-rho0[i]*r_over_R[i])*dr"
   ]
  },
  {
   "cell_type": "code",
   "execution_count": 66,
   "id": "504b91b9",
   "metadata": {},
   "outputs": [],
   "source": [
    "g_old = g.copy()"
   ]
  },
  {
   "cell_type": "code",
   "execution_count": 95,
   "id": "199901f0",
   "metadata": {},
   "outputs": [
    {
     "data": {
      "text/latex": [
       "$4488977.9 \\; \\mathrm{\\frac{cm}{s^{2}}}$"
      ],
      "text/plain": [
       "<Quantity 4488977.87385554 cm / s2>"
      ]
     },
     "execution_count": 95,
     "metadata": {},
     "output_type": "execute_result"
    }
   ],
   "source": [
    "g[1]"
   ]
  },
  {
   "cell_type": "code",
   "execution_count": 93,
   "id": "386b81d4",
   "metadata": {},
   "outputs": [
    {
     "data": {
      "text/plain": [
       "[<matplotlib.lines.Line2D at 0x137137290>]"
      ]
     },
     "execution_count": 93,
     "metadata": {},
     "output_type": "execute_result"
    },
    {
     "data": {
      "image/png": "[encoded data removed]",
      "text/plain": [
       "<Figure size 640x480 with 1 Axes>"
      ]
     },
     "metadata": {},
     "output_type": "display_data"
    }
   ],
   "source": [
    "plt.plot(r_over_R, g)"
   ]
  },
  {
   "cell_type": "code",
   "execution_count": 79,
   "id": "81823650",
   "metadata": {},
   "outputs": [
    {
     "data": {
      "text/plain": [
       "Text(0, 0.5, 'Gravitational acceleration [cm/s$^2$]')"
      ]
     },
     "execution_count": 79,
     "metadata": {},
     "output_type": "execute_result"
    },
    {
     "data": {
      "image/png": "[encoded data removed]",
      "text/plain": [
       "<Figure size 640x480 with 1 Axes>"
      ]
     },
     "metadata": {},
     "output_type": "display_data"
    }
   ],
   "source": [
    "plt.plot(r_over_R, g_old)\n",
    "plt.plot(r_over_R, g)\n",
    "plt.xlabel(\"R/R$_*$\")\n",
    "plt.ylabel(\"Gravitational acceleration [cm/s$^2$]\")"
   ]
  },
  {
   "cell_type": "markdown",
   "id": "d4cdc179",
   "metadata": {},
   "source": [
    "# Difference between actual surface value and calculated surface value:"
   ]
  },
  {
   "cell_type": "code",
   "execution_count": 62,
   "id": "cecbf641",
   "metadata": {},
   "outputs": [
    {
     "data": {
      "text/plain": [
       "(array([2401]),)"
      ]
     },
     "execution_count": 62,
     "metadata": {},
     "output_type": "execute_result"
    }
   ],
   "source": [
    "np.where(np.abs(r_over_R-1)<1e-6)"
   ]
  },
  {
   "cell_type": "code",
   "execution_count": 73,
   "id": "18b505f5",
   "metadata": {},
   "outputs": [
    {
     "data": {
      "text/latex": [
       "$17.770868 \\; \\mathrm{\\frac{cm}{s^{2}}}$"
      ],
      "text/plain": [
       "<Quantity 17.77086777 cm / s2>"
      ]
     },
     "execution_count": 73,
     "metadata": {},
     "output_type": "execute_result"
    }
   ],
   "source": [
    "g_sun = G * M_sun / (R_sun**2)\n",
    "np.abs(g_sun - g[2401])"
   ]
  },
  {
   "cell_type": "code",
   "execution_count": 63,
   "id": "46f9b206",
   "metadata": {},
   "outputs": [
    {
     "name": "stdout",
     "output_type": "stream",
     "text": [
      "g_sun:27428.149001043374 cm / s2\n",
      "g[-1]:27377.682505181543 cm / s2\n"
     ]
    }
   ],
   "source": [
    "print(\"g_sun:{}\".format(g_sun))\n",
    "print(\"g[-1]:{}\".format(g[2401]))"
   ]
  },
  {
   "cell_type": "code",
   "execution_count": null,
   "id": "b8d346e7",
   "metadata": {},
   "outputs": [],
   "source": []
  }
 ],
 "metadata": {
  "kernelspec": {
   "display_name": "Python 3 (ipykernel)",
   "language": "python",
   "name": "python3"
  },
  "language_info": {
   "codemirror_mode": {
    "name": "ipython",
    "version": 3
   },
   "file_extension": ".py",
   "mimetype": "text/x-python",
   "name": "python",
   "nbconvert_exporter": "python",
   "pygments_lexer": "ipython3",
   "version": "3.11.3"
  }
 },
 "nbformat": 4,
 "nbformat_minor": 5
}
