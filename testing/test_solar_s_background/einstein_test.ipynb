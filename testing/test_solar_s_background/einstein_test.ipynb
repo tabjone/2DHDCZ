{
 "cells": [
  {
   "cell_type": "code",
   "execution_count": 6,
   "id": "926c3b79",
   "metadata": {},
   "outputs": [],
   "source": [
    "import astropy.units as u\n",
    "from astropy.constants import c, G\n",
    "import numpy as np"
   ]
  },
  {
   "cell_type": "code",
   "execution_count": 11,
   "id": "db9009b9",
   "metadata": {},
   "outputs": [],
   "source": [
    "def einstein_gravity(M, r):\n",
    "    return G * M/(r*r) /np.sqrt(1-2*G*M/(c*c*r))\n",
    "    \n",
    "def newton_gravity(M, r):\n",
    "    return G*M/(r*r)"
   ]
  },
  {
   "cell_type": "code",
   "execution_count": 8,
   "id": "238a8847",
   "metadata": {},
   "outputs": [
    {
     "data": {
      "text/latex": [
       "$2.1222174 \\times 10^{-6} \\; \\mathrm{m}$"
      ],
      "text/plain": [
       "<Quantity 2.12221735e-06 m>"
      ]
     },
     "execution_count": 8,
     "metadata": {},
     "output_type": "execute_result"
    }
   ],
   "source": [
    "G*M/(c*c*r)"
   ]
  },
  {
   "cell_type": "code",
   "execution_count": 12,
   "id": "4598d3e4",
   "metadata": {},
   "outputs": [
    {
     "data": {
      "text/plain": [
       "(<Quantity 274.04567299 m / s2>, <Quantity 274.04509141 m / s2>)"
      ]
     },
     "execution_count": 12,
     "metadata": {},
     "output_type": "execute_result"
    }
   ],
   "source": [
    "M = 1.989e30 * u.kg\n",
    "r = 6.96e8 * u.m\n",
    "\n",
    "einstein_gravity(M, r), newton_gravity(M, r)"
   ]
  },
  {
   "cell_type": "code",
   "execution_count": null,
   "id": "cfb40e8c",
   "metadata": {},
   "outputs": [],
   "source": [
    "print(\"Einstein gravity: %.5f\".for)\n"
   ]
  }
 ],
 "metadata": {
  "kernelspec": {
   "display_name": "Python 3 (ipykernel)",
   "language": "python",
   "name": "python3"
  },
  "language_info": {
   "codemirror_mode": {
    "name": "ipython",
    "version": 3
   },
   "file_extension": ".py",
   "mimetype": "text/x-python",
   "name": "python",
   "nbconvert_exporter": "python",
   "pygments_lexer": "ipython3",
   "version": "3.11.3"
  }
 },
 "nbformat": 4,
 "nbformat_minor": 5
}
