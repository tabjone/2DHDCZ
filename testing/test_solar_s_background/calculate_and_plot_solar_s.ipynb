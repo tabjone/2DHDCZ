{
 "cells": [
  {
   "cell_type": "code",
   "execution_count": 1,
   "id": "1c832c2b",
   "metadata": {},
   "outputs": [],
   "source": [
    "import matplotlib.pyplot as plt\n",
    "import h5py\n",
    "import numpy as np\n",
    "from scipy.interpolate import interp1d\n",
    "\n",
    "R_sun = 6.957e10"
   ]
  },
  {
   "cell_type": "code",
   "execution_count": 2,
   "id": "2f1302c4",
   "metadata": {},
   "outputs": [],
   "source": [
    "def read_solar_S_hdf5(file_path):\n",
    "    with h5py.File(file_path, 'r') as f:\n",
    "        r_over_R = np.array(f['/r_over_R'])\n",
    "        c_s = np.array(f['/c_s'])\n",
    "        Gamma_1 = np.array(f['/Gamma_1'])\n",
    "        T0 = np.array(f['/T'])\n",
    "        rho0 = np.array(f['/rho'])\n",
    "        p0 = np.array(f['/p'])\n",
    "        \n",
    "        #flipping arrays so they start at r/R = 0 and ends at 1.\n",
    "        #strictly not necessary for calculations \n",
    "        r_over_R = np.flip(r_over_R)\n",
    "        c_s = np.flip(c_s)\n",
    "        Gamma_1 = np.flip(Gamma_1)\n",
    "        T0 = np.flip(T0)\n",
    "        rho0 = np.flip(rho0)\n",
    "        p0 = np.flip(p0)\n",
    "\n",
    "    return r_over_R, c_s, Gamma_1, T0, rho0, p0\n",
    "\n",
    "r_over_R_raw, c_s_raw, Gamma_1_raw, T0_raw, rho0_raw, p0_raw\\\n",
    "    =read_solar_S_hdf5(\"../../additional_files/solar_s.h5\")"
   ]
  },
  {
   "cell_type": "code",
   "execution_count": 18,
   "id": "14440313",
   "metadata": {},
   "outputs": [],
   "source": [
    "def get_interpolated_vars(kind_, nz):\n",
    "    # Create interpolated functions\n",
    "    c_s_interp = interp1d(r_over_R_raw, c_s_raw, kind=kind_) # Change kind if needed\n",
    "    Gamma_1_interp = interp1d(r_over_R_raw, Gamma_1_raw, kind=kind_)\n",
    "    T0_interp = interp1d(r_over_R_raw, T0_raw, kind=kind_)\n",
    "    rho0_interp = interp1d(r_over_R_raw, rho0_raw, kind=kind_)\n",
    "    p0_interp = interp1d(r_over_R_raw, p0_raw, kind=kind_)\n",
    "\n",
    "    r_over_R_interp = np.linspace(0.1001302,0.95, nz)\n",
    "    c_s_interp = c_s_interp(r_over_R_interp)\n",
    "    Gamma_1_interp = Gamma_1_interp(r_over_R_interp)\n",
    "    T0_interp = T0_interp(r_over_R_interp)\n",
    "    rho0_interp = rho0_interp(r_over_R_interp)\n",
    "    p0_interp = p0_interp(r_over_R_interp)\n",
    "    \n",
    "    return r_over_R_interp, c_s_interp, Gamma_1_interp, T0_interp, rho0_interp, p0_interp"
   ]
  },
  {
   "cell_type": "code",
   "execution_count": 4,
   "id": "78d9d699",
   "metadata": {},
   "outputs": [],
   "source": [
    "def get_H(r_over_R, p0):\n",
    "    H = - R_sun*p0*(np.roll(r_over_R,-1)-r_over_R)/(np.roll(p0,-1)-p0)\n",
    "    return H"
   ]
  },
  {
   "cell_type": "code",
   "execution_count": 5,
   "id": "3552a1f8",
   "metadata": {},
   "outputs": [],
   "source": [
    "def get_superad_param(p0, T0):\n",
    "    return -0.4 + p0/T0 * (np.roll(T0,-1)-T0)/(np.roll(p0,-1)-p0)"
   ]
  },
  {
   "cell_type": "code",
   "execution_count": 11,
   "id": "36aa35df",
   "metadata": {},
   "outputs": [],
   "source": [
    "def get_c_p(p0, rho0, T0, Gamma_1):\n",
    "    r_star = p0 / (rho0 * T0)\n",
    "    c_p = r_star / (1 - 1/Gamma_1)\n",
    "    return c_p"
   ]
  },
  {
   "cell_type": "code",
   "execution_count": null,
   "id": "37f6f5c8",
   "metadata": {},
   "outputs": [],
   "source": [
    "plt.plot(r_over_R_raw[raw_mask], get_c_p(p0_raw, rho0_raw, T0_raw, Gamma_1_raw)[raw_mask])\n",
    "plt.plot(r_over_R_interp, get_c_p(p0_interp, rho0_interp, T0_interp, Gamma_1_interp))"
   ]
  },
  {
   "cell_type": "code",
   "execution_count": 6,
   "id": "9c4ce771",
   "metadata": {},
   "outputs": [],
   "source": [
    "def get_RHS(r_over_R, rho0, p0, T0, Gamma_1):\n",
    "    superad_param = get_superad_param(p0, T0)\n",
    "    H = get_H(r_over_R, p0)\n",
    "    \n",
    "    c_p = get_c_p(p0, rho0, T0, Gamma_1)\n",
    "    RHS = -(c_p / H) * superad_param\n",
    "    return RHS"
   ]
  },
  {
   "cell_type": "code",
   "execution_count": null,
   "id": "c2b40289",
   "metadata": {},
   "outputs": [],
   "source": [
    "plt.plot(r_over_R_raw[raw_mask], get_RHS(r_over_R_raw, rho0_raw, p0_raw, T0_raw, Gamma_1_raw)[raw_mask])\n",
    "plt.plot(r_over_R_interp[:-1], get_RHS(r_over_R_interp, rho0_interp, p0_interp, T0_interp, Gamma_1_interp)[:-1])"
   ]
  },
  {
   "cell_type": "code",
   "execution_count": 44,
   "id": "f88930eb",
   "metadata": {},
   "outputs": [],
   "source": [
    "def get_entropy(r_over_R, p0, T0, rho0, Gamma_1):\n",
    "    r_star = p0 / (rho0 * T0)    \n",
    "    RHS = get_RHS(r_over_R, rho0, p0, T0, Gamma_1)\n",
    "    \n",
    "    s0 = np.zeros(len(T0))\n",
    "    #s0[0] = r_star[0] / (1 - 1/Gamma_1[0])\n",
    "    R = 8.314 #ideal gas constant\n",
    "    \n",
    "    s0[0] = 8.314 * 5/2 #here I set the reference value of entropy s0[0]=c_pr (is this okay?)\n",
    "    for i in range(1,len(T0)):\n",
    "        dz = R_sun * (r_over_R[i] - r_over_R[i-1]);\n",
    "        s0[i] = s0[i-1] + 0.5*(RHS[i]-RHS[i-1]) * dz;\n",
    "    \n",
    "    return s0"
   ]
  },
  {
   "cell_type": "code",
   "execution_count": 21,
   "id": "abcc1b2e",
   "metadata": {},
   "outputs": [
    {
     "data": {
      "text/plain": [
       "(1114,)"
      ]
     },
     "execution_count": 21,
     "metadata": {},
     "output_type": "execute_result"
    }
   ],
   "source": [
    "p0_raw[raw_mask].shape"
   ]
  },
  {
   "cell_type": "code",
   "execution_count": 45,
   "id": "f347091a",
   "metadata": {},
   "outputs": [],
   "source": [
    "nz = int(1e5)\n",
    "\n",
    "r_over_R_interp, c_s_interp, Gamma_1_interp, T0_interp, rho0_interp, p0_interp = get_interpolated_vars(\"linear\", nz)\n",
    "superad_param_lin = get_superad_param(p0_interp, T0_interp)\n",
    "H_lin = get_H(r_over_R_interp, p0_interp)\n",
    "s0_lin = get_entropy(r_over_R_interp, p0_interp, T0_interp, rho0_interp, Gamma_1_interp)\n",
    "rhs_lin = get_RHS(r_over_R_interp, rho0_interp, p0_interp, T0_interp, Gamma_1_interp)\n",
    "\n",
    "r_over_R_interp, c_s_interp, Gamma_1_interp, T0_interp, rho0_interp, p0_interp = get_interpolated_vars(\"cubic\", nz)\n",
    "superad_param_cub = get_superad_param(p0_interp, T0_interp)\n",
    "H_cub = get_H(r_over_R_interp, p0_interp)\n",
    "s0_cub = get_entropy(r_over_R_interp, p0_interp, T0_interp, rho0_interp, Gamma_1_interp)\n",
    "rhs_cub = get_RHS(r_over_R_interp, rho0_interp, p0_interp, T0_interp, Gamma_1_interp)\n",
    "\n",
    "r_over_R_interp, c_s_interp, Gamma_1_interp, T0_interp, rho0_interp, p0_interp = get_interpolated_vars(\"quadratic\", nz)\n",
    "superad_param_quad = get_superad_param(p0_interp, T0_interp)\n",
    "H_quad = get_H(r_over_R_interp, p0_interp)\n",
    "s0_quad = get_entropy(r_over_R_interp, p0_interp, T0_interp, rho0_interp, Gamma_1_interp)\n",
    "rhs_quad = get_RHS(r_over_R_interp, rho0_interp, p0_interp, T0_interp, Gamma_1_interp)\n",
    "\n",
    "raw_mask = (r_over_R_raw > 0.1) & (r_over_R_raw < 0.95)\n",
    "\n",
    "superad_param_raw = get_superad_param(p0_raw[raw_mask], T0_raw[raw_mask])\n",
    "H_raw = get_H(r_over_R_raw[raw_mask], p0_raw[raw_mask])\n",
    "s0_raw = get_entropy(r_over_R_raw[raw_mask], p0_raw[raw_mask], T0_raw[raw_mask], rho0_raw[raw_mask], Gamma_1_raw[raw_mask])\n",
    "rhs_raw = get_RHS(r_over_R_raw[raw_mask], rho0_raw[raw_mask], p0_raw[raw_mask], T0_raw[raw_mask], Gamma_1_raw[raw_mask])"
   ]
  },
  {
   "cell_type": "code",
   "execution_count": 30,
   "id": "d58f85a2",
   "metadata": {},
   "outputs": [
    {
     "data": {
      "text/plain": [
       "'\\nfig, ax = plt.subplots(2,2,figsize=(12,8))\\n\\nfig.suptitle(\"nz=10$^2$\")\\nax[0][0].semilogy(r_over_R_interp[:-1], H_lin[:-1], label=\"Lin interp\", color=\"black\", linestyle=\"dashdot\")\\nax[0][0].semilogy(r_over_R_interp[:-1], H_quad[:-1], label=\"Quad interp\", color=\"green\", linestyle=\"--\")\\nax[0][0].semilogy(r_over_R_raw[raw_mask][:-1], H_raw[:-1], label=\"Raw data\", color=\"red\", linestyle=\":\")\\nax[0][0].set_xlabel(\"R/R$_*$\")\\nax[0][0].set_ylabel(\"Pressure scale height H\")\\nax[0][0].legend()\\n\\nax[0][1].plot(r_over_R_interp[:-1], superad_param_lin[:-1], label=\"Lin interp\", color=\"black\", linestyle=\"dashdot\")\\nax[0][1].plot(r_over_R_interp[:-1], superad_param_quad[:-1], label=\"Quad interp\", color=\"green\", linestyle=\"--\")\\nax[0][1].plot(r_over_R_raw[raw_mask][:-1], superad_param_raw[:-1], label=\"Raw data\", color=\"red\", linestyle=\":\")\\nax[0][1].set_xlabel(\"R/R$_*$\")\\nax[0][1].set_ylabel(r\"Superadiabacicity parameter $\\\\Delta\\nabla$\")\\nax[0][1].legend()\\n\\nax[1][0].plot(r_over_R_interp[:-1], s0_lin[:-1], label=\"Lin interp\", color=\"black\", linestyle=\"dashdot\")\\nax[1][0].plot(r_over_R_interp[:-1], s0_quad[:-1], label=\"Quad interp\", color=\"green\", linestyle=\"--\")\\nax[1][0].plot(r_over_R_raw[raw_mask][:-1], s0_raw[:-1], label=\"Raw data\", color=\"red\", linestyle=\":\")\\nax[1][0].set_xlabel(\"R/R$_*$\")\\nax[1][0].set_ylabel(\"Entropy\")\\nax[1][0].legend()\\n\\nax[1][1].plot(r_over_R_interp[:-1], rhs_lin[:-1], label=\"Lin interp\", color=\"black\", linestyle=\"dashdot\")\\nax[1][1].plot(r_over_R_interp[:-1], rhs_quad[:-1], label=\"Quad interp\", color=\"green\", linestyle=\"--\")\\nax[1][1].plot(r_over_R_raw[raw_mask][:-1], rhs_raw[:-1], label=\"Raw data\", color=\"red\", linestyle=\":\")\\nax[1][1].set_xlabel(\"R/R$_*$\")\\nax[1][1].set_ylabel(\"RHS Entropy\")\\nax[1][1].legend()\\n\\nfig.tight_layout()\\n#plt.savefig()'"
      ]
     },
     "execution_count": 30,
     "metadata": {},
     "output_type": "execute_result"
    }
   ],
   "source": [
    "\"\"\"\n",
    "fig, ax = plt.subplots(2,2,figsize=(12,8))\n",
    "\n",
    "fig.suptitle(\"nz=10$^2$\")\n",
    "ax[0][0].semilogy(r_over_R_interp[:-1], H_lin[:-1], label=\"Lin interp\", color=\"black\", linestyle=\"dashdot\")\n",
    "ax[0][0].semilogy(r_over_R_interp[:-1], H_quad[:-1], label=\"Quad interp\", color=\"green\", linestyle=\"--\")\n",
    "ax[0][0].semilogy(r_over_R_raw[raw_mask][:-1], H_raw[:-1], label=\"Raw data\", color=\"red\", linestyle=\":\")\n",
    "ax[0][0].set_xlabel(\"R/R$_*$\")\n",
    "ax[0][0].set_ylabel(\"Pressure scale height H\")\n",
    "ax[0][0].legend()\n",
    "\n",
    "ax[0][1].plot(r_over_R_interp[:-1], superad_param_lin[:-1], label=\"Lin interp\", color=\"black\", linestyle=\"dashdot\")\n",
    "ax[0][1].plot(r_over_R_interp[:-1], superad_param_quad[:-1], label=\"Quad interp\", color=\"green\", linestyle=\"--\")\n",
    "ax[0][1].plot(r_over_R_raw[raw_mask][:-1], superad_param_raw[:-1], label=\"Raw data\", color=\"red\", linestyle=\":\")\n",
    "ax[0][1].set_xlabel(\"R/R$_*$\")\n",
    "ax[0][1].set_ylabel(r\"Superadiabacicity parameter $\\Delta\\nabla$\")\n",
    "ax[0][1].legend()\n",
    "\n",
    "ax[1][0].plot(r_over_R_interp[:-1], s0_lin[:-1], label=\"Lin interp\", color=\"black\", linestyle=\"dashdot\")\n",
    "ax[1][0].plot(r_over_R_interp[:-1], s0_quad[:-1], label=\"Quad interp\", color=\"green\", linestyle=\"--\")\n",
    "ax[1][0].plot(r_over_R_raw[raw_mask][:-1], s0_raw[:-1], label=\"Raw data\", color=\"red\", linestyle=\":\")\n",
    "ax[1][0].set_xlabel(\"R/R$_*$\")\n",
    "ax[1][0].set_ylabel(\"Entropy\")\n",
    "ax[1][0].legend()\n",
    "\n",
    "ax[1][1].plot(r_over_R_interp[:-1], rhs_lin[:-1], label=\"Lin interp\", color=\"black\", linestyle=\"dashdot\")\n",
    "ax[1][1].plot(r_over_R_interp[:-1], rhs_quad[:-1], label=\"Quad interp\", color=\"green\", linestyle=\"--\")\n",
    "ax[1][1].plot(r_over_R_raw[raw_mask][:-1], rhs_raw[:-1], label=\"Raw data\", color=\"red\", linestyle=\":\")\n",
    "ax[1][1].set_xlabel(\"R/R$_*$\")\n",
    "ax[1][1].set_ylabel(\"RHS Entropy\")\n",
    "ax[1][1].legend()\n",
    "\n",
    "fig.tight_layout()\n",
    "#plt.savefig()\"\"\""
   ]
  },
  {
   "cell_type": "code",
   "execution_count": 46,
   "id": "f875b544",
   "metadata": {},
   "outputs": [
    {
     "data": {
      "text/plain": [
       "<matplotlib.legend.Legend at 0x1608e6c90>"
      ]
     },
     "execution_count": 46,
     "metadata": {},
     "output_type": "execute_result"
    },
    {
     "data": {
      "image/png": "[encoded data removed]",
      "text/plain": [
       "<Figure size 800x600 with 2 Axes>"
      ]
     },
     "metadata": {},
     "output_type": "display_data"
    }
   ],
   "source": [
    "fig, ax = plt.subplots(2,figsize=(8,6))\n",
    "\n",
    "fig.suptitle(\"nz={:.0e}\".format(nz))\n",
    "\n",
    "#ax[0].plot(r_over_R_interp[:-1], rhs_lin[:-1], label=\"Lin interp\", color=\"blue\", linestyle=\"dashdot\")\n",
    "ax[0].plot(r_over_R_interp[:-1], rhs_quad[:-1], label=\"Quad interp\", color=\"black\", linestyle=\"-\")\n",
    "ax[0].plot(r_over_R_raw[raw_mask][:-1], rhs_raw[:-1], label=\"Raw data\", color=\"red\", linestyle=\":\")\n",
    "ax[0].set_xlabel(\"R/R$_*$\")\n",
    "ax[0].set_ylabel(\"RHS Entropy eq\")\n",
    "ax[0].legend()\n",
    "\n",
    "#ax[1].plot(r_over_R_interp[:-1], s0_lin[:-1], label=\"Lin interp\", color=\"black\", linestyle=\"dashdot\")\n",
    "ax[1].plot(r_over_R_interp[:-1], s0_quad[:-1], label=\"Quad interp\", color=\"black\", linestyle=\"--\")\n",
    "ax[1].plot(r_over_R_raw[raw_mask][:-1], s0_raw[:-1], label=\"Raw data\", color=\"red\", linestyle=\":\")\n",
    "ax[1].set_xlabel(\"R/R$_*$\")\n",
    "ax[1].set_ylabel(\"Entropy\")\n",
    "ax[1].legend()"
   ]
  },
  {
   "cell_type": "code",
   "execution_count": null,
   "id": "ef56606e",
   "metadata": {},
   "outputs": [],
   "source": []
  },
  {
   "cell_type": "code",
   "execution_count": null,
   "id": "b2fbde80",
   "metadata": {},
   "outputs": [],
   "source": []
  },
  {
   "cell_type": "code",
   "execution_count": null,
   "id": "943574df",
   "metadata": {},
   "outputs": [],
   "source": []
  },
  {
   "cell_type": "code",
   "execution_count": null,
   "id": "11ba7348",
   "metadata": {},
   "outputs": [],
   "source": [
    "fig, ax = plt.subplots(figsize=(7,4))\n",
    "\n",
    "ax.semilogy(r_over_R_interp[:-1], s0_lin[:-1], label=\"linear\", color=\"black\")\n",
    "ax.semilogy(r_over_R_interp[:-1], s0_quad[:-1], label=\"quadratic\", color=\"blue\")\n",
    "ax.semilogy(r_over_R_interp[:-1], s0_cub[:-1], label=\"cubic\", color=\"red\")\n",
    "ax.semilogy(r_over_R_raw[raw_mask], s0_raw[raw_mask], label=\"Raw data\", color=\"green\")\n",
    "ax.set_xlabel(\"R/R$_*$\")\n",
    "ax.set_ylabel(\"Entropy\")\n",
    "ax.legend()"
   ]
  },
  {
   "cell_type": "code",
   "execution_count": null,
   "id": "0f84bd36",
   "metadata": {},
   "outputs": [],
   "source": [
    "def plot_of_kind(kind_):\n",
    "    #kind_ = \"linear\"\n",
    "    # Create interpolated functions\n",
    "    c_s_interp = interp1d(r_over_R, c_s, kind=kind_) # Change kind if needed\n",
    "    Gamma_1_interp = interp1d(r_over_R, Gamma_1, kind=kind_)\n",
    "    T0_interp = interp1d(r_over_R, T0, kind=kind_)\n",
    "    rho0_interp = interp1d(r_over_R, rho0, kind=kind_)\n",
    "    p0_interp = interp1d(r_over_R, p0, kind=kind_)\n",
    "\n",
    "    r_over_R_interp = np.linspace(0.2,0.95, int(1e4))\n",
    "    c_s_interp = c_s_interp(r_over_R_interp)\n",
    "    Gamma_1_interp = Gamma_1_interp(r_over_R_interp)\n",
    "    T0_interp = T0_interp(r_over_R_interp)\n",
    "    rho0_interp = rho0_interp(r_over_R_interp)\n",
    "    p0_interp = p0_interp(r_over_R_interp)\n",
    "    \n",
    "    R_sun = 6.957e10\n",
    "    H_on_interpolated = - (np.roll(r_over_R_interp,-1)-r_over_R_interp)*R_sun\\\n",
    "                      / (np.roll(np.log(p0_interp),-1)-np.log(p0_interp))\n",
    "    \n",
    "    plt.plot(r_over_R_interp, H_on_interpolated, label=kind_)"
   ]
  },
  {
   "cell_type": "code",
   "execution_count": null,
   "id": "998eb5c5",
   "metadata": {},
   "outputs": [],
   "source": [
    "plot_of_kind(\"linear\")\n",
    "plot_of_kind(\"cubic\")\n",
    "#plot_of_kind(\"quadratic\")\n",
    "plt.legend()\n",
    "plt.xlim(0.3,0.4)\n",
    "plt.ylim(4.8e9, 5e9)\n",
    "plt.xlabel(\"R/R$_*$\")\n",
    "plt.ylabel(\"Pressure scale height H\")"
   ]
  },
  {
   "cell_type": "code",
   "execution_count": null,
   "id": "75d25dad",
   "metadata": {},
   "outputs": [],
   "source": [
    "kind_ = \"linear\"\n",
    "# Create interpolated functions\n",
    "c_s_interp = interp1d(r_over_R, c_s, kind=kind_)\n",
    "Gamma_1_interp = interp1d(r_over_R, Gamma_1, kind=kind_)\n",
    "T0_interp = interp1d(r_over_R, T0, kind=kind_)\n",
    "rho0_interp = interp1d(r_over_R, rho0, kind=kind_)\n",
    "p0_interp = interp1d(r_over_R, p0, kind=kind_)\n",
    "\n",
    "r_over_R_interp = np.linspace(0.2,0.95, int(1e4))\n",
    "c_s_interp = c_s_interp(r_over_R_interp)\n",
    "Gamma_1_interp = Gamma_1_interp(r_over_R_interp)\n",
    "T0_interp = T0_interp(r_over_R_interp)\n",
    "rho0_interp = rho0_interp(r_over_R_interp)\n",
    "p0_interp = p0_interp(r_over_R_interp)"
   ]
  },
  {
   "cell_type": "code",
   "execution_count": null,
   "id": "3730bed9",
   "metadata": {},
   "outputs": [],
   "source": [
    "plt.plot(r_over_R_interp, p0_interp)\n",
    "plt.plot(r_over_R, p0, linestyle=\":\")"
   ]
  },
  {
   "cell_type": "code",
   "execution_count": null,
   "id": "2960c63c",
   "metadata": {},
   "outputs": [],
   "source": [
    "H_on_raw_data = - (np.roll(r_over_R,-1)-r_over_R)*R_sun * p0 / (np.roll(p0,-1)-p0)"
   ]
  },
  {
   "cell_type": "code",
   "execution_count": null,
   "id": "cf8d7bb2",
   "metadata": {},
   "outputs": [],
   "source": [
    "plt.plot(r_over_R_interp[:-1], H_on_interpolated[:-1], label=\"Interpolated data\")"
   ]
  },
  {
   "cell_type": "code",
   "execution_count": null,
   "id": "c14a8ed0",
   "metadata": {},
   "outputs": [],
   "source": [
    "plt.plot(r_over_R_interp[1000:-1], H_on_interpolated[1000:-1], label=\"Interpolated data\")\n",
    "plt.plot(r_over_R[500:1200], H_on_raw_data[500:1200], label=\"Raw data\")\n",
    "plt.xlabel(\"R/R$_*$\")\n",
    "plt.ylabel(\"Pressure scale height\")\n",
    "plt.xlim(0.4,0.5)\n",
    "plt.legend()"
   ]
  },
  {
   "cell_type": "code",
   "execution_count": 48,
   "id": "96ce4cae",
   "metadata": {},
   "outputs": [
    {
     "name": "stdout",
     "output_type": "stream",
     "text": [
      "9\n",
      "8\n",
      "7\n",
      "6\n",
      "5\n",
      "4\n",
      "3\n",
      "2\n",
      "1\n",
      "0\n"
     ]
    }
   ],
   "source": [
    "nz = 10\n",
    "for j in range(0, nz):\n",
    "    i= nz-1-j\n",
    "    print(i)"
   ]
  },
  {
   "cell_type": "code",
   "execution_count": null,
   "id": "b0f3bd2e",
   "metadata": {},
   "outputs": [],
   "source": []
  }
 ],
 "metadata": {
  "kernelspec": {
   "display_name": "Python 3 (ipykernel)",
   "language": "python",
   "name": "python3"
  },
  "language_info": {
   "codemirror_mode": {
    "name": "ipython",
    "version": 3
   },
   "file_extension": ".py",
   "mimetype": "text/x-python",
   "name": "python",
   "nbconvert_exporter": "python",
   "pygments_lexer": "ipython3",
   "version": "3.11.3"
  }
 },
 "nbformat": 4,
 "nbformat_minor": 5
}
