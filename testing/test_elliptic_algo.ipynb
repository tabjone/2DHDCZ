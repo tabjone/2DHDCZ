{
 "cells": [
  {
   "cell_type": "code",
   "execution_count": 303,
   "id": "d381b2f2",
   "metadata": {},
   "outputs": [
    {
     "data": {
      "text/plain": [
       "1072.825379208"
      ]
     },
     "execution_count": 303,
     "metadata": {},
     "output_type": "execute_result"
    }
   ],
   "source": [
    "(366201)**2 * 8 / 1e9"
   ]
  },
  {
   "cell_type": "code",
   "execution_count": 1,
   "id": "0a38635e",
   "metadata": {},
   "outputs": [],
   "source": [
    "import numpy as np\n",
    "import matplotlib.pyplot as plt"
   ]
  },
  {
   "cell_type": "markdown",
   "id": "ddda08e7",
   "metadata": {},
   "source": [
    "$$\n",
    "F(x,y) = 6x+6y\n",
    "$$\n",
    "\n",
    "$$\n",
    "p(x,y)=x^3+y^3 + Cx +Dy + Exy +F\n",
    "$$\n",
    "\n",
    "$$\n",
    "p(0,y)=p(1,y)=p(x,0)=p(x,1)=0\n",
    "$$\n",
    "\n",
    "$$\n",
    "p(0,y)=0\\Rightarrow y^3+Dy+F=0 \\Rightarrow F=-y^3-Dy\n",
    "$$\n",
    "\n",
    "$$\n",
    "p(x,y)=x^3+ Cx + Exy\n",
    "$$\n",
    "\n",
    "$$\n",
    "p(x,0)=0 \\Rightarrow x^3+ Cx + Exy = 0 \\Rightarrow C = -Ey-x^2\n",
    "$$\n",
    "\n",
    "$$\n",
    "p(x,y) = \n",
    "$$"
   ]
  },
  {
   "cell_type": "code",
   "execution_count": 171,
   "id": "edce8ed2",
   "metadata": {},
   "outputs": [
    {
     "data": {
      "text/plain": [
       "array([   0.,    0.,    0.,    0., -100.,    0.,    0.,    0.,    0.,\n",
       "       -100.,    0.,    0.,    0.,    0., -100.])"
      ]
     },
     "execution_count": 171,
     "metadata": {},
     "output_type": "execute_result"
    }
   ],
   "source": [
    "N = 3 #number of rows\n",
    "M = 5 #number of columns\n",
    "\n",
    "\n",
    "\n",
    "# creating linspaces and meshgrids between 0 and 1\n",
    "xx = np.linspace(0,1,N)\n",
    "yy = np.linspace(0,1,M)\n",
    "\n",
    "dx = (1-0)/(N-1)\n",
    "dy = (1-0)/(M-1)\n",
    "\n",
    "X, Y = np.meshgrid(xx, yy)\n",
    "\n",
    "# making analytical solution for F(x,y) = 6x+6y\n",
    "# giving p(x,y) = x^3 + y^3\n",
    "\n",
    "F = np.zeros(N*M)\n",
    "p_analytical = np.zeros(N*M)\n",
    "F[4] = -100\n",
    "F[9] = -100\n",
    "F[14]= -100\n",
    "\n",
    "A = \n",
    "\n",
    "\n",
    "\"\"\"\n",
    "for i in range(0, N):\n",
    "    for j in range(0, M):\n",
    "        x = i*dx\n",
    "        y = j*dy\n",
    "        F[M*i+j] = 6*x + 6*y\n",
    "        p_analytical[M*i+j] = x**3 + y**3\n",
    "\"\"\"\n",
    "#plotting analytical solution\n",
    "#plt.contourf(X, Y, p_analytical.reshape(M, N), cmap=\"inferno\", levels=5)\n",
    "#plt.colorbar()\n",
    "#plt.show()\n",
    "\n",
    "F"
   ]
  },
  {
   "cell_type": "code",
   "execution_count": 154,
   "id": "72877d23",
   "metadata": {},
   "outputs": [],
   "source": [
    "x = 1/dx**2 # \"off-diagonal\" element\n",
    "y = 1/dy**2 # second diagonal element\n",
    "z = -2*(dx+dy) #diagonal element"
   ]
  },
  {
   "cell_type": "code",
   "execution_count": 155,
   "id": "8be84d17",
   "metadata": {},
   "outputs": [],
   "source": [
    "#creating matrix to try Gauss-Seidel\n",
    "A = np.array([\n",
    "    [z, y, 0, 0, x, 0, 0, 0, 0, 0, 0, 0],\n",
    "    [y, z, y, 0, 0, x, 0, 0, 0, 0, 0, 0],\n",
    "    [0, y, z, y, 0, 0, x, 0, 0, 0, 0, 0],\n",
    "    [0, 0, y, z, y, 0, 0, x, 0, 0, 0, 0],\n",
    "    [0, 0, 0, y, z, y, 0, 0, x, 0, 0, 0],\n",
    "    [0, 0, 0, 0, y, z, y, 0, 0, x, 0, 0],\n",
    "    [0, 0, 0, 0, 0, y, z, y, 0, 0, x, 0],\n",
    "    [0, 0, 0, 0, 0, 0, y, z, y, 0, 0, x],\n",
    "    [0, 0, 0, 0, 0, 0, 0, y, z, y, 0, 0],\n",
    "    [0, 0, 0, 0, 0, 0, 0, 0, y, z, y, 0],\n",
    "    [0, 0, 0, 0, 0, 0, 0, 0, 0, y, z, y],\n",
    "    [0, 0, 0, 0, 0, 0, 0, 0, 0, 0, y, z]\n",
    "])"
   ]
  },
  {
   "cell_type": "code",
   "execution_count": 156,
   "id": "06dfedc4",
   "metadata": {},
   "outputs": [],
   "source": [
    "# copied from web\n",
    "\n",
    "def seidel(a, x ,b):\n",
    "    #Finding length of a(3)       \n",
    "    n = len(a)                   \n",
    "    # for loop for 3 times as to calculate x, y , z\n",
    "    for j in range(0, n):        \n",
    "        # temp variable d to store b[j]\n",
    "        d = b[j]                  \n",
    "          \n",
    "        # to calculate respective xi, yi, zi\n",
    "        for i in range(0, n):     \n",
    "            if(j != i):\n",
    "                d-=a[j][i] * x[i]\n",
    "        # updating the value of our solution        \n",
    "        x[j] = d / a[j][j]\n",
    "    # returning our updated solution           \n",
    "    return x\n",
    "\"\"\"\n",
    "def gauss_seidel(A, b, max_iterations=1000, tol=1e-10):\n",
    "    n = len(b)\n",
    "    x = np.zeros_like(b)\n",
    "    \n",
    "    for it in range(max_iterations):\n",
    "        x_old = x.copy()\n",
    "        for i in range(n):\n",
    "            s1 = np.dot(A[i, :i], x[:i])\n",
    "            s2 = np.dot(A[i, i+1:], x_old[i+1:])\n",
    "            x[i] = (b[i] - s1 - s2) / A[i, i]\n",
    "            \n",
    "        # Check convergence\n",
    "        if np.linalg.norm(x - x_old, np.inf) < tol:\n",
    "            return x, it\n",
    "        \n",
    "    raise ValueError(\"Gauss-Seidel did not converge after {} iterations.\".format(max_iterations))\"\"\""
   ]
  },
  {
   "cell_type": "code",
   "execution_count": 158,
   "id": "347e8d99",
   "metadata": {},
   "outputs": [
    {
     "ename": "ValueError",
     "evalue": "Gauss-Seidel did not converge after 10000 iterations.",
     "output_type": "error",
     "traceback": [
      "\u001b[0;31m---------------------------------------------------------------------------\u001b[0m",
      "\u001b[0;31mValueError\u001b[0m                                Traceback (most recent call last)",
      "Cell \u001b[0;32mIn[158], line 1\u001b[0m\n\u001b[0;32m----> 1\u001b[0m p_gs, it \u001b[38;5;241m=\u001b[39m \u001b[43mgauss_seidel\u001b[49m\u001b[43m(\u001b[49m\u001b[43mA\u001b[49m\u001b[43m,\u001b[49m\u001b[43m \u001b[49m\u001b[43mF\u001b[49m\u001b[43m,\u001b[49m\u001b[43m \u001b[49m\u001b[43mtol\u001b[49m\u001b[38;5;241;43m=\u001b[39;49m\u001b[38;5;241;43m1e-1\u001b[39;49m\u001b[43m,\u001b[49m\u001b[43m \u001b[49m\u001b[43mmax_iterations\u001b[49m\u001b[38;5;241;43m=\u001b[39;49m\u001b[38;5;28;43mint\u001b[39;49m\u001b[43m(\u001b[49m\u001b[38;5;241;43m1e4\u001b[39;49m\u001b[43m)\u001b[49m\u001b[43m)\u001b[49m\n",
      "Cell \u001b[0;32mIn[156], line 16\u001b[0m, in \u001b[0;36mgauss_seidel\u001b[0;34m(A, b, max_iterations, tol)\u001b[0m\n\u001b[1;32m     13\u001b[0m     \u001b[38;5;28;01mif\u001b[39;00m np\u001b[38;5;241m.\u001b[39mlinalg\u001b[38;5;241m.\u001b[39mnorm(x \u001b[38;5;241m-\u001b[39m x_old, np\u001b[38;5;241m.\u001b[39minf) \u001b[38;5;241m<\u001b[39m tol:\n\u001b[1;32m     14\u001b[0m         \u001b[38;5;28;01mreturn\u001b[39;00m x, it\n\u001b[0;32m---> 16\u001b[0m \u001b[38;5;28;01mraise\u001b[39;00m \u001b[38;5;167;01mValueError\u001b[39;00m(\u001b[38;5;124m\"\u001b[39m\u001b[38;5;124mGauss-Seidel did not converge after \u001b[39m\u001b[38;5;132;01m{}\u001b[39;00m\u001b[38;5;124m iterations.\u001b[39m\u001b[38;5;124m\"\u001b[39m\u001b[38;5;241m.\u001b[39mformat(max_iterations))\n",
      "\u001b[0;31mValueError\u001b[0m: Gauss-Seidel did not converge after 10000 iterations."
     ]
    }
   ],
   "source": [
    "p_gs, it = gauss_seidel(A, F, tol=1e-1, max_iterations=int(1e4))"
   ]
  },
  {
   "cell_type": "markdown",
   "id": "d818d49e",
   "metadata": {},
   "source": [
    "# STOP HERE"
   ]
  },
  {
   "cell_type": "markdown",
   "id": "af87fb17",
   "metadata": {},
   "source": [
    "# STOP HERE"
   ]
  },
  {
   "cell_type": "markdown",
   "id": "3fab1b4e",
   "metadata": {},
   "source": [
    "# STOP HERE"
   ]
  },
  {
   "cell_type": "markdown",
   "id": "40d4f509",
   "metadata": {},
   "source": [
    "# STOP HERE"
   ]
  },
  {
   "cell_type": "markdown",
   "id": "f22a7350",
   "metadata": {},
   "source": [
    "# STOP HERE"
   ]
  },
  {
   "cell_type": "markdown",
   "id": "c40b5a5b",
   "metadata": {},
   "source": [
    "# STOP HERE"
   ]
  },
  {
   "cell_type": "code",
   "execution_count": null,
   "id": "1ac1d445",
   "metadata": {},
   "outputs": [],
   "source": []
  },
  {
   "cell_type": "code",
   "execution_count": null,
   "id": "5cfab510",
   "metadata": {},
   "outputs": [],
   "source": []
  },
  {
   "cell_type": "code",
   "execution_count": null,
   "id": "f996dffa",
   "metadata": {},
   "outputs": [],
   "source": []
  },
  {
   "cell_type": "code",
   "execution_count": 115,
   "id": "541ddf30",
   "metadata": {},
   "outputs": [],
   "source": [
    "\n",
    "\n",
    "\n"
   ]
  },
  {
   "cell_type": "code",
   "execution_count": 282,
   "id": "8cff08cc",
   "metadata": {},
   "outputs": [],
   "source": [
    "def forward_algo(i, z, y, x):\n",
    "    #Men husk at vi lar kun i gå fra et visst punkt. Og mange av de tidlige er b_tilde=b\n",
    "    #kan hende at indekseringen på i-M blir feil når vi går fra 0 istedetfor 1\n",
    "    #tror heller ikke vi trenger denne algoritmen på siste vektor fordi den blir vel bare b_i\n",
    "    b_tilde[i,0] = b[i,0] - y/b_tilde[i-1,0] * b_tilde[i-1,1] - x*x/b_tilde[i-M,0]\n",
    "    \n",
    "    for j in range(1, M):\n",
    "        b_tilde[i,j] = b[i,j] - y/b_tilde[i-1,0] * b_tilde[i-1,j+1]\n",
    "        \n",
    "    F_tilde[i] = F[i] - y/b_tilde[i-1,0] * F_tilde[i-1] - x*x/b[i-M,0]\n",
    "    \n",
    "def backward_algo(i):\n",
    "    p[i] = F_tilde[i]\n",
    "    for j in range(1,M+1):\n",
    "        p[i] -= b[i][j]*p[i-1+j]\n",
    "    p[i] /= b[i][0]"
   ]
  },
  {
   "cell_type": "code",
   "execution_count": 281,
   "id": "f6a5b073",
   "metadata": {},
   "outputs": [
    {
     "data": {
      "text/plain": [
       "(5, 3)"
      ]
     },
     "execution_count": 281,
     "metadata": {},
     "output_type": "execute_result"
    }
   ],
   "source": [
    "M,N"
   ]
  },
  {
   "cell_type": "markdown",
   "id": "a0b1776c",
   "metadata": {},
   "source": [
    "# Direct method"
   ]
  },
  {
   "cell_type": "code",
   "execution_count": 296,
   "id": "b0b91759",
   "metadata": {},
   "outputs": [
    {
     "data": {
      "image/png": "[encoded data removed]",
      "text/plain": [
       "<Figure size 640x480 with 2 Axes>"
      ]
     },
     "metadata": {},
     "output_type": "display_data"
    }
   ],
   "source": [
    "b = np.zeros((N+M,M+1))\n",
    "b_tilde = np.zeros((N+M,M+1))\n",
    "\n",
    "F = np.zeros(N*M)\n",
    "F_tilde = np.zeros(N*M)\n",
    "\n",
    "F[4], F[9], F[14] = -100, -100, -100\n",
    "\n",
    "\n",
    "p = np.zeros(N*M)\n",
    "\n",
    "b[:,0] = -4\n",
    "b[:,1] = 1\n",
    "for i in range(2, M):\n",
    "    b[:,i] = 0\n",
    "    \n",
    "b[:,M] = 1\n",
    "\n",
    "F_tilde[:M] = F[:M]\n",
    "b_tilde[:,:M] = b[:,:M]\n",
    "\n",
    "for i in range(M, N+M):\n",
    "    forward_algo(i, -4, 1, 1)    \n",
    "\n",
    "for i in range(M, N+M):\n",
    "    backward_algo(i)\n",
    "    \n",
    "T = np.zeros_like(X)\n",
    "T[-1,:] = 100\n",
    "\n",
    "for n in range(1,6):\n",
    "    T[n,1] = p[n-1]\n",
    "    T[n,2] = p[n+5-1]\n",
    "    T[n,3] = p[n+10-1]\n",
    "\n",
    "fig, ax = plt.subplots()\n",
    "surf = ax.contourf(X, Y, T, antialiased=False)\n",
    "fig.colorbar(surf)\n",
    "plt.show()"
   ]
  },
  {
   "cell_type": "markdown",
   "id": "35cf3e06",
   "metadata": {},
   "source": [
    "# Gauss-Seidel"
   ]
  },
  {
   "cell_type": "code",
   "execution_count": 288,
   "id": "80d32074",
   "metadata": {},
   "outputs": [
    {
     "data": {
      "text/plain": [
       "((15, 15), (8, 6))"
      ]
     },
     "execution_count": 288,
     "metadata": {},
     "output_type": "execute_result"
    }
   ],
   "source": [
    "A.shape, b.shape"
   ]
  },
  {
   "cell_type": "code",
   "execution_count": 300,
   "id": "f4093484",
   "metadata": {},
   "outputs": [
    {
     "name": "stdout",
     "output_type": "stream",
     "text": [
      "54\n"
     ]
    },
    {
     "data": {
      "image/png": "[encoded data removed]",
      "text/plain": [
       "<Figure size 640x480 with 2 Axes>"
      ]
     },
     "metadata": {},
     "output_type": "display_data"
    }
   ],
   "source": [
    "def gauss_seidel(A, b, max_iterations=1000, tol=1e-10):\n",
    "    n = len(b)\n",
    "    x = np.zeros_like(b)\n",
    "    for it in range(max_iterations):\n",
    "        x_old = x.copy()\n",
    "        for i in range(n):\n",
    "            s1 = np.dot(A[i, :i], x[:i])\n",
    "            s2 = np.dot(A[i, i+1:], x_old[i+1:])\n",
    "            x[i] = (b[i] - s1 - s2) / A[i, i]\n",
    "            \n",
    "        # Check convergence\n",
    "        # divide this by max(x_old) and divided by sqrt(n)\n",
    "        # max(x-x_old)/max(x_old) < tol // relative error of biggest point\n",
    "        if np.linalg.norm(x - x_old, np.inf) < tol:\n",
    "            return x, it\n",
    "        \n",
    "    raise ValueError(\"Gauss-Seidel did not converge after {} iterations.\".format(max_iterations))\n",
    "\n",
    "theta, it = gauss_seidel(A.toarray(), F)\n",
    "print(it)\n",
    "\n",
    "\n",
    "T = np.zeros_like(X)\n",
    "T[-1,:] = 100\n",
    "\n",
    "for n in range(1,6):\n",
    "    T[n,1] = theta[n-1]\n",
    "    T[n,2] = theta[n+5-1]\n",
    "    T[n,3] = theta[n+10-1]\n",
    "\n",
    "fig, ax = plt.subplots()\n",
    "surf = ax.contourf(X, Y, T, antialiased=False)\n",
    "\n",
    "fig.colorbar(surf)\n",
    "plt.show()"
   ]
  },
  {
   "cell_type": "code",
   "execution_count": 297,
   "id": "1ea0b17f",
   "metadata": {},
   "outputs": [],
   "source": [
    "N = 3\n",
    "M = 5\n",
    "\n",
    "dx = 0.25\n",
    "dy = 0.25\n",
    "\n",
    "# THIS DOES NOT WORK\n",
    "x = 1/dx**2\n",
    "y = 1/dx**2\n",
    "z = -2*(x+y)\n",
    "\n",
    "# THIS WORKS\n",
    "z = -4\n",
    "y = 1\n",
    "x = 1\n",
    "\n",
    "xx = np.linspace(0, 1, N+1)\n",
    "yy = np.linspace(0, 1.5, M+1)\n",
    "X,Y = np.meshgrid(xx,yy)\n",
    "\n",
    "b = np.zeros(N*M)\n",
    "x_analytical = np.zeros(N*M)\n",
    "b[4] = -100\n",
    "b[9] = -100\n",
    "b[14]= -100\n",
    "\n",
    "A_ = np.zeros((N*M,N*M))\n",
    "\n",
    "z_pos = 0\n",
    "\n",
    "for i in range(0,N*M):\n",
    "    A_[i,:] = 0\n",
    "    A_[i,z_pos] = z\n",
    "    #A[i,x_pos] = x \n",
    "    if (i>0):\n",
    "        A_[i,z_pos-1] = y\n",
    "    if (i<M*N-1):\n",
    "        A_[i,z_pos+1] = y\n",
    "    \n",
    "    if (i>M-1):\n",
    "        A_[i,z_pos-M] = x\n",
    "    \n",
    "    if (i<M*N-M):\n",
    "        A_[i,z_pos+M] = x\n",
    "        \n",
    "    z_pos+= 1"
   ]
  },
  {
   "cell_type": "code",
   "execution_count": 191,
   "id": "65c899d3",
   "metadata": {},
   "outputs": [],
   "source": [
    "def analytical_solution(x,y):\n",
    "    s = np.zeros_like(x)\n",
    "    for n in range(100):\n",
    "        lambda_n = np.pi*n\n",
    "        A_n = 4/(np.sinh(3/2 * lambda_n))\n",
    "        s+= A_n * np.sinh(lambda_n * y) * np.sin(lambda_n * x)\n",
    "        \n",
    "    return 100*s"
   ]
  },
  {
   "cell_type": "code",
   "execution_count": 194,
   "id": "3860ba62",
   "metadata": {},
   "outputs": [
    {
     "name": "stderr",
     "output_type": "stream",
     "text": [
      "/var/folders/k6/k6jkpmqs13l4qhz_xy4wzlmw0000gn/T/ipykernel_73048/2794335276.py:5: RuntimeWarning: divide by zero encountered in scalar divide\n",
      "  A_n = 4/(np.sinh(3/2 * lambda_n))\n",
      "/var/folders/k6/k6jkpmqs13l4qhz_xy4wzlmw0000gn/T/ipykernel_73048/2794335276.py:6: RuntimeWarning: invalid value encountered in multiply\n",
      "  s+= A_n * np.sinh(lambda_n * y) * np.sin(lambda_n * x)\n"
     ]
    },
    {
     "data": {
      "text/plain": [
       "<matplotlib.image.AxesImage at 0x1089bfc50>"
      ]
     },
     "execution_count": 194,
     "metadata": {},
     "output_type": "execute_result"
    },
    {
     "data": {
      "image/png": "[encoded data removed]",
      "text/plain": [
       "<Figure size 640x480 with 1 Axes>"
      ]
     },
     "metadata": {},
     "output_type": "display_data"
    }
   ],
   "source": [
    "plt.imshow(analytical_solution(X,Y))"
   ]
  },
  {
   "cell_type": "code",
   "execution_count": 169,
   "id": "a8b6ad12",
   "metadata": {
    "scrolled": true
   },
   "outputs": [
    {
     "data": {
      "text/plain": [
       "(16.0, 16.0, -64.0)"
      ]
     },
     "execution_count": 169,
     "metadata": {},
     "output_type": "execute_result"
    }
   ],
   "source": [
    "x,y,z"
   ]
  },
  {
   "cell_type": "code",
   "execution_count": 126,
   "id": "2bdd1d87",
   "metadata": {},
   "outputs": [
    {
     "data": {
      "text/plain": [
       "16"
      ]
     },
     "execution_count": 126,
     "metadata": {},
     "output_type": "execute_result"
    }
   ],
   "source": [
    "N*M"
   ]
  },
  {
   "cell_type": "code",
   "execution_count": 125,
   "id": "2aea838a",
   "metadata": {},
   "outputs": [
    {
     "data": {
      "text/plain": [
       "((16,), (12, 12))"
      ]
     },
     "execution_count": 125,
     "metadata": {},
     "output_type": "execute_result"
    }
   ],
   "source": [
    "F.shape, A.shape"
   ]
  },
  {
   "cell_type": "code",
   "execution_count": 146,
   "id": "9b5410ee",
   "metadata": {},
   "outputs": [
    {
     "ename": "ValueError",
     "evalue": "Gauss-Seidel did not converge after 100000 iterations.",
     "output_type": "error",
     "traceback": [
      "\u001b[0;31m---------------------------------------------------------------------------\u001b[0m",
      "\u001b[0;31mValueError\u001b[0m                                Traceback (most recent call last)",
      "Cell \u001b[0;32mIn[146], line 1\u001b[0m\n\u001b[0;32m----> 1\u001b[0m t, it \u001b[38;5;241m=\u001b[39m \u001b[43mgauss_seidel\u001b[49m\u001b[43m(\u001b[49m\u001b[43mA\u001b[49m\u001b[43m,\u001b[49m\u001b[43m \u001b[49m\u001b[43mF\u001b[49m\u001b[43m,\u001b[49m\u001b[43m \u001b[49m\u001b[43mtol\u001b[49m\u001b[38;5;241;43m=\u001b[39;49m\u001b[38;5;241;43m10\u001b[39;49m\u001b[43m,\u001b[49m\u001b[43m \u001b[49m\u001b[43mmax_iterations\u001b[49m\u001b[38;5;241;43m=\u001b[39;49m\u001b[38;5;28;43mint\u001b[39;49m\u001b[43m(\u001b[49m\u001b[38;5;241;43m1e5\u001b[39;49m\u001b[43m)\u001b[49m\u001b[43m)\u001b[49m\n",
      "Cell \u001b[0;32mIn[143], line 16\u001b[0m, in \u001b[0;36mgauss_seidel\u001b[0;34m(A, b, max_iterations, tol)\u001b[0m\n\u001b[1;32m     13\u001b[0m     \u001b[38;5;28;01mif\u001b[39;00m np\u001b[38;5;241m.\u001b[39mlinalg\u001b[38;5;241m.\u001b[39mnorm(x \u001b[38;5;241m-\u001b[39m x_old, np\u001b[38;5;241m.\u001b[39minf) \u001b[38;5;241m<\u001b[39m tol:\n\u001b[1;32m     14\u001b[0m         \u001b[38;5;28;01mreturn\u001b[39;00m x, it\n\u001b[0;32m---> 16\u001b[0m \u001b[38;5;28;01mraise\u001b[39;00m \u001b[38;5;167;01mValueError\u001b[39;00m(\u001b[38;5;124m\"\u001b[39m\u001b[38;5;124mGauss-Seidel did not converge after \u001b[39m\u001b[38;5;132;01m{}\u001b[39;00m\u001b[38;5;124m iterations.\u001b[39m\u001b[38;5;124m\"\u001b[39m\u001b[38;5;241m.\u001b[39mformat(max_iterations))\n",
      "\u001b[0;31mValueError\u001b[0m: Gauss-Seidel did not converge after 100000 iterations."
     ]
    }
   ],
   "source": []
  },
  {
   "cell_type": "code",
   "execution_count": 299,
   "id": "c2dbf107",
   "metadata": {},
   "outputs": [
    {
     "name": "stdout",
     "output_type": "stream",
     "text": [
      "sparse solver time: 0.007925033569335938\n",
      "linalg solver time: 0.007239818572998047\n"
     ]
    },
    {
     "data": {
      "image/png": "[encoded data removed]",
      "text/plain": [
       "<Figure size 640x480 with 1 Axes>"
      ]
     },
     "metadata": {},
     "output_type": "display_data"
    }
   ],
   "source": [
    "# src-ch7/laplace_Diriclhet1.py\n",
    "import numpy as np\n",
    "import scipy \n",
    "import scipy.linalg\n",
    "import scipy.sparse\n",
    "import scipy.sparse.linalg\n",
    "#import matplotlib; matplotlib.use('Qt4Agg')\n",
    "import matplotlib.pylab as plt\n",
    "import time\n",
    "from math import sinh\n",
    "\n",
    "#import matplotlib.pyplot as plt\n",
    "# Change some default values to make plots more readable on the screen\n",
    "LNWDT=2; FNT=15\n",
    "plt.rcParams['lines.linewidth'] = LNWDT; plt.rcParams['font.size'] = FNT\n",
    "\n",
    "# Set simulation parameters\n",
    "n = 15\n",
    "d = np.ones(n) # diagonals\n",
    "b = np.zeros(n) #RHS\n",
    "d0 = d*-4\n",
    "d1 = d[0:-1]\n",
    "d5 = d[0:10]\n",
    "\n",
    "A = scipy.sparse.diags([d0, d1, d1, d5, d5], [0, 1, -1, 5, -5], format='csc')\n",
    "\n",
    "#alternatively (scalar broadcasting version:)\n",
    "#A = scipy.sparse.diags([1, 1, -4, 1, 1], [-5, -1, 0, 1, 5], shape=(15, 15)).toarray()\n",
    "\n",
    "# update A matrix\n",
    "A[4, 5], A[5, 4], A[10, 9], A[9, 10] = 0, 0, 0, 0\n",
    "# update RHS:\n",
    "b[4], b[9], b[14] = -100, -100, -100\n",
    "#print A.toarray()\n",
    "\n",
    "tic=time.time()\n",
    "theta = scipy.sparse.linalg.spsolve(A,b) #theta=sc.linalg.solve_triangular(A,d)\n",
    "toc=time.time()\n",
    "print('sparse solver time:',toc-tic)\n",
    "\n",
    " \n",
    "tic=time.time()\n",
    "theta2=scipy.linalg.solve(A.toarray(),b)\n",
    "toc=time.time()\n",
    "print('linalg solver time:',toc-tic)\n",
    "\n",
    "# surfaceplot:\n",
    "x = np.linspace(0, 1, 5)\n",
    "y = np.linspace(0, 1.5, 7)\n",
    "\n",
    "X, Y = np.meshgrid(x, y)\n",
    "\n",
    "T = np.zeros_like(X)\n",
    "\n",
    "T[-1,:] = 100\n",
    "\n",
    "for n in range(1,6):\n",
    "    T[n,1] = theta[n-1]\n",
    "    T[n,2] = theta[n+5-1]\n",
    "    T[n,3] = theta[n+10-1]\n",
    "    \n",
    "from mpl_toolkits.mplot3d import Axes3D\n",
    "from matplotlib import cm\n",
    "from matplotlib.ticker import LinearLocator, FormatStrFormatter\n",
    "import numpy as np\n",
    "\n",
    "fig, ax = plt.subplots()\n",
    "surf = ax.imshow(T)\n",
    "\n",
    "#fig.colorbar(surf)\n",
    "plt.show()"
   ]
  },
  {
   "cell_type": "markdown",
   "id": "09d9e759",
   "metadata": {},
   "source": [
    "BC: I utgangspunkt Hard wall, dvs samme som grense = 0, men ikke hard code (extrapoler for BC på del^2p likning for eks.\n",
    "\n",
    "Hard wall p1, s1, v1z. dv1x/dz=0, dv1y/dz=0\n",
    "\n",
    "Tester først pertubations med gaussisk et eller annet i rho eller vx>>0 for eks for å se bevegelse."
   ]
  }
 ],
 "metadata": {
  "kernelspec": {
   "display_name": "Python 3 (ipykernel)",
   "language": "python",
   "name": "python3"
  },
  "language_info": {
   "codemirror_mode": {
    "name": "ipython",
    "version": 3
   },
   "file_extension": ".py",
   "mimetype": "text/x-python",
   "name": "python",
   "nbconvert_exporter": "python",
   "pygments_lexer": "ipython3",
   "version": "3.11.3"
  }
 },
 "nbformat": 4,
 "nbformat_minor": 5
}
