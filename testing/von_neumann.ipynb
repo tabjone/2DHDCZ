{
 "cells": [
  {
   "cell_type": "markdown",
   "id": "adc620e8",
   "metadata": {},
   "source": [
    "Equation\n",
    "$$\n",
    "\\frac{du}{dt}=-a\\frac{du}{dx}\n",
    "$$"
   ]
  },
  {
   "cell_type": "markdown",
   "id": "12cafcb7",
   "metadata": {},
   "source": [
    "Principle:\n",
    "\n",
    "Assume peculiar solution on the form $u_{j}^n = \\xi^n e^{ik\\pi j \\Delta x}$.\n",
    "\n",
    "Insert this to whatever equation and require that $|\\xi|^2\\leq 1$ for all $k$."
   ]
  },
  {
   "cell_type": "markdown",
   "id": "7f74944a",
   "metadata": {},
   "source": [
    "**FTCS**:\n",
    "\n",
    "$$\n",
    "\\frac{u_{j}^{n+1}-u_{j}^{n}}{\\Delta t}=-a\\frac{u_{j+1}^n-u_{j-1}^n}{2\\Delta x}\n",
    "$$\n",
    "\n",
    "Inserting peculiar sulution:\n",
    "\n",
    "$$\n",
    "\\frac{\\xi^{n+1}-\\xi^{n}}{\\Delta t}e^{ik\\pi j\\Delta x}=-a\\xi^n \\frac{e^{ik\\pi (j+1) \\Delta x}-e^{ik\\pi (j-1) \\Delta x}}{2\\Delta x}\n",
    "$$\n",
    "\n",
    "We divide by $e^{ik\\pi j\\Delta x}$:\n",
    "\n",
    "$$\n",
    "\\frac{\\xi^{n+1}-\\xi^{n}}{\\Delta t}=-a\\xi^n \\frac{e^{ik\\pi\\Delta x}-e^{-ik\\pi\\Delta x}}{2\\Delta x}\n",
    "$$\n",
    "\n",
    "Dividing by $\\xi^n$ and multiplying by $\\Delta t$:\n",
    "\n",
    "$$\n",
    "(\\xi-1)=-a\\frac{\\Delta t}{2\\Delta x} (e^{ik\\pi\\Delta x}-e^{-ik\\pi\\Delta x})\n",
    "$$\n",
    "\n",
    "Using identity $e^{ix}-e^{-ix}=2i\\sin{(x)}$:\n",
    "\n",
    "$$\n",
    "(\\xi-1)=-a\\frac{\\Delta t}{2\\Delta x} (2i\\sin{(k\\pi\\Delta x)})\n",
    "$$\n",
    "\n",
    "$$\n",
    "\\xi = -a\\frac{\\Delta t}{2\\Delta x} (2i\\sin{(k\\pi\\Delta x)}) + 1\n",
    "$$\n",
    "\n",
    "Requirement:\n",
    "\n",
    "$$\n",
    "|\\xi|^2 =  \\left|-a\\frac{\\Delta t}{2\\Delta x}(2i\\sin{(k\\pi\\Delta x)}) + 1\\right|^2=1+a^2\\frac{\\Delta t^2}{4\\Delta x^2}(4\\sin^2{(k\\pi\\Delta x)})\\leq 1.\n",
    "$$\n",
    "\n",
    "$$\n",
    "a^2\\frac{\\Delta t^2}{\\Delta x^2}\\sin^2{(k\\pi\\Delta x)}\\leq 0 \\Rightarrow \\Delta t \\leq 0.\n",
    "$$\n",
    "\n",
    "Don't work."
   ]
  },
  {
   "cell_type": "markdown",
   "id": "fb185cdd",
   "metadata": {},
   "source": [
    "**FTFS:**\n",
    "$$\n",
    "\\frac{u_{j}^{n+1}-u_{j}^{n}}{\\Delta t}=-a\n",
    "\\frac{-3u_{j}^n+ 4u_{j+1}^n- u_{j+2}^n}{2\\Delta x}\n",
    "$$\n",
    "\n",
    "Inserting peculiar solution (and for simplicity $\\theta=k\\pi\\Delta x$:\n",
    "\n",
    "$$\n",
    "\\frac{\\xi-1}{\\Delta t}\\xi^n e^{ij\\theta} =-a\n",
    "\\xi^n\\frac{-3e^{ij\\theta}+ 4e^{i(j+1)\\theta}- e^{i(j+2)\\theta}}{2\\Delta x}\n",
    "$$\n",
    "\n",
    "Dividing by $\\xi^ne^{ij\\theta}$:\n",
    "\n",
    "$$\n",
    "\\frac{\\xi-1}{\\Delta t}=-a\\frac{-3+ 4e^{i\\theta}- e^{2i\\theta}}{2\\Delta x}\n",
    "$$\n",
    "\n",
    "Using $e^{ix}=\\cos(x)+i\\sin(x)$ and solving for $\\xi$:\n",
    "\n",
    "$$\n",
    "\\xi=-\\frac{a\\Delta t}{2\\Delta x}\\left[-3+4(\\cos{(\\theta)}+i\\sin{(\\theta)})-(\\cos{(2\\theta)}+i\\sin{(2\\theta)})\\right]+1\n",
    "$$\n",
    "\n",
    "$$\n",
    "\\xi=-\\frac{a\\Delta t}{2\\Delta x}\\left[-3+4\\cos{(\\theta)}-\\cos{(2\\theta)}+4i\\sin{(\\theta)}-i\\sin{(2\\theta)}\\right]+1\n",
    "$$\n",
    "\n",
    "Separating real and imaginary parts:\n",
    "\n",
    "$$\n",
    "\\xi=\\left(-\\frac{a\\Delta t}{2\\Delta x}\\left[-3+4\\cos{(\\theta)}-\\cos{(2\\theta)}\\right]+1\\right)\n",
    "+i\\left(-\\frac{a\\Delta t}{2\\Delta x}\\left[4\\sin{(\\theta)}-\\sin{(2\\theta)}\\right]\\right)\n",
    "$$"
   ]
  },
  {
   "cell_type": "markdown",
   "id": "06a67f29",
   "metadata": {},
   "source": [
    "Absolute value thing:\n",
    "\n",
    "$$\n",
    "|\\xi|^2=\\left(-\\frac{a\\Delta t}{2\\Delta x}\\left[-3+4\\cos{(\\theta)}-\\cos{(2\\theta)}\\right]+1\\right)^2\n",
    "+\\left(-\\frac{a\\Delta t}{2\\Delta x}\\left[4\\sin{(\\theta)}-\\sin{(2\\theta)}\\right]\\right)^2\n",
    "$$"
   ]
  },
  {
   "cell_type": "markdown",
   "id": "cfc38e98",
   "metadata": {},
   "source": [
    "$$\n",
    "|\\xi|^2=\\frac{a^2\\Delta t^2}{4\\Delta x^2}\\left[-3+4\\cos{(\\theta)}-\\cos{(2\\theta)}\\right]^2-\\frac{a\\Delta t}{\\Delta x}\\left[-3+4\\cos{(\\theta)}-\\cos{(2\\theta)}\\right]+1\n",
    "+\\frac{a^2\\Delta t^2}{4\\Delta x^2}\\left[4\\sin{(\\theta)}-\\sin{(2\\theta)}\\right]^2\\leq 1\n",
    "$$\n",
    "\n",
    "$$\n",
    "\\frac{a^2\\Delta t^2}{4\\Delta x^2}\\left[-3+4\\cos{(\\theta)}-\\cos{(2\\theta)}\\right]^2-\\frac{a\\Delta t}{\\Delta x}\\left[-3+4\\cos{(\\theta)}-\\cos{(2\\theta)}\\right]\n",
    "+\\frac{a^2\\Delta t^2}{4\\Delta x^2}\\left[4\\sin{(\\theta)}-\\sin{(2\\theta)}\\right]^2\\leq 0\n",
    "$$"
   ]
  },
  {
   "cell_type": "markdown",
   "id": "e9ef23ed",
   "metadata": {},
   "source": [
    "$$\n",
    "\\frac{a^2\\Delta t^2}{4\\Delta x^2}\\left[16\\cos^2{(\\theta)}+\\cos^2{(2\\theta)}-8\\cos{(2\\theta)}\\cos{(\\theta)}-24\\cos{(\\theta)}+6\\cos{(2\\theta)}+9 \\right]\n",
    "-\\frac{a\\Delta t}{\\Delta x}\\left[-3+4\\cos{(\\theta)}-\\cos{(2\\theta)}\\right]\n",
    "+\\frac{a^2\\Delta t^2}{4\\Delta x^2}\\left[16\\sin^2{(\\theta)}+\\sin^2{(2\\theta)}-8\\sin{(2\\theta)}\\sin{(\\theta)} \\right]\n",
    "\\leq 0\n",
    "$$"
   ]
  },
  {
   "cell_type": "markdown",
   "id": "2d086c56",
   "metadata": {},
   "source": [
    "$$\n",
    "\\frac{a^2\\Delta t^2}{4\\Delta x^2}\\left[16\\cos^2{(\\theta)}+\\cos^2{(2\\theta)}-8\\cos{(2\\theta)}\\cos{(\\theta)}-24\\cos{(\\theta)}+6\\cos{(2\\theta)}+9 +16\\sin^2{(\\theta)}+\\sin^2{(2\\theta)}-8\\sin{(2\\theta)}\\sin{(\\theta)}\\right]\n",
    "-\\frac{a\\Delta t}{\\Delta x}\\left[-3+4\\cos{(\\theta)}-\\cos{(2\\theta)}\\right]\n",
    "\\leq 0\n",
    "$$"
   ]
  },
  {
   "cell_type": "markdown",
   "id": "bca25de9",
   "metadata": {},
   "source": [
    "Using $\\sin^2{(x)}+\\cos^2{(x)}=1$:"
   ]
  },
  {
   "cell_type": "markdown",
   "id": "1d2897ab",
   "metadata": {},
   "source": [
    "$$\n",
    "\\frac{a^2\\Delta t^2}{4\\Delta x^2}\\left[26-8\\cos{(2\\theta)}\\cos{(\\theta)}-24\\cos{(\\theta)}+6\\cos{(2\\theta)}-8\\sin{(2\\theta)}\\sin{(\\theta)}\\right]\n",
    "-\\frac{a\\Delta t}{4\\Delta x}\\left[-3+4\\cos{(\\theta)}-\\cos{(2\\theta)}\\right]\n",
    "\\leq 0\n",
    "$$"
   ]
  },
  {
   "cell_type": "markdown",
   "id": "d724ddcf",
   "metadata": {},
   "source": [
    "Using $\\sin{(2\\theta)}=2\\sin\\theta\\cos\\theta$:"
   ]
  },
  {
   "cell_type": "markdown",
   "id": "249213b8",
   "metadata": {},
   "source": [
    "$$\n",
    "\\frac{a^2\\Delta t^2}{4\\Delta x^2}\\left[26-8\\cos{(2\\theta)}\\cos{(\\theta)}-24\\cos{(\\theta)}+6\\cos{(2\\theta)}-16\\sin^2{(\\theta)}\\cos{(\\theta)}\\right]\n",
    "-\\frac{a\\Delta t}{\\Delta x}\\left[-3+4\\cos{(\\theta)}-\\cos{(2\\theta)}\\right]\n",
    "\\leq 0\n",
    "$$"
   ]
  },
  {
   "cell_type": "markdown",
   "id": "ededade7",
   "metadata": {},
   "source": [
    "$$\n",
    "\\frac{a^2\\Delta t^2}{4\\Delta x^2}\\left[26-\\cos{(\\theta)}(8\\cos{(2\\theta)}+24+16\\sin^2{(\\theta)})+6\\cos{(2\\theta)}\\right]\n",
    "-\\frac{a\\Delta t}{\\Delta x}\\left[-3+4\\cos{(\\theta)}-\\cos{(2\\theta)}\\right]\n",
    "\\leq 0\n",
    "$$"
   ]
  },
  {
   "cell_type": "markdown",
   "id": "d89cb3b3",
   "metadata": {},
   "source": [
    "Using $\\cos{(2\\theta)}=\\cos^2{(\\theta)}-\\sin^2{(\\theta)}$:\n",
    "\n",
    "$$\n",
    "\\frac{a^2\\Delta t^2}{4\\Delta x^2}\\left[26-\\cos{(\\theta)}(8(\\cos^2{(\\theta)}-\\sin^2{(\\theta)})+24+16\\sin^2{(\\theta)})+6\\cos{(2\\theta)}\\right]\n",
    "-\\frac{a\\Delta t}{\\Delta x}\\left[-3+4\\cos{(\\theta)}-\\cos{(2\\theta)}\\right]\n",
    "\\leq 0\n",
    "$$\n",
    "\n",
    "$$\n",
    "\\frac{a^2\\Delta t^2}{4\\Delta x^2}\\left[26-32\\cos{(\\theta)}+6\\cos{(2\\theta)}\\right]\n",
    "-\\frac{a\\Delta t}{\\Delta x}\\left[-3+4\\cos{(\\theta)}-\\cos{(2\\theta)}\\right]\n",
    "\\leq 0\n",
    "$$"
   ]
  },
  {
   "cell_type": "markdown",
   "id": "e7c0b3ab",
   "metadata": {},
   "source": [
    "## Checking visually\n",
    "\n",
    "Is this:\n",
    "$$\n",
    "|\\xi|^2=\\frac{a^2\\Delta t^2}{4\\Delta x^2}\\left[-3+4\\cos{(\\theta)}-\\cos{(2\\theta)}\\right]^2-\\frac{a\\Delta t}{\\Delta x}\\left[-3+4\\cos{(\\theta)}-\\cos{(2\\theta)}\\right]+1\n",
    "+\\frac{a^2\\Delta t^2}{4\\Delta x^2}\\left[4\\sin{(\\theta)}-\\sin{(2\\theta)}\\right]^2\\leq 1\n",
    "$$\n",
    "Equal to this:\n",
    "$$\n",
    "\\frac{a^2\\Delta t^2}{4\\Delta x^2}\\left[26-32\\cos{(\\theta)}+6\\cos{(2\\theta)}\\right]\n",
    "-\\frac{a\\Delta t}{\\Delta x}\\left[-3+4\\cos{(\\theta)}-\\cos{(2\\theta)}\\right]\n",
    "\\leq 0\n",
    "$$"
   ]
  },
  {
   "cell_type": "code",
   "execution_count": 36,
   "id": "20980ba2",
   "metadata": {},
   "outputs": [],
   "source": [
    "#Checking if expression is the same graphically. Setting dt=dx=1. a=-1\n",
    "\n",
    "import numpy as np\n",
    "from numpy import sin, cos\n",
    "import matplotlib.pyplot as plt"
   ]
  },
  {
   "cell_type": "code",
   "execution_count": 35,
   "id": "bfcadd27",
   "metadata": {
    "scrolled": false
   },
   "outputs": [
    {
     "data": {
      "text/plain": [
       "[<matplotlib.lines.Line2D at 0x160b8de50>]"
      ]
     },
     "execution_count": 35,
     "metadata": {},
     "output_type": "execute_result"
    },
    {
     "data": {
      "image/png": "[encoded data removed]",
      "text/plain": [
       "<Figure size 640x480 with 1 Axes>"
      ]
     },
     "metadata": {},
     "output_type": "display_data"
    }
   ],
   "source": [
    "def first_expression(theta, a):\n",
    "    return (a)**2/4*(-3+4*cos(theta)-cos(2*theta))**(2)-a*(-3+4*cos(theta)-cos(2*theta))+(a)**2/4*(4*sin(theta)-sin(2*theta))**(2)\n",
    "\n",
    "def last_expression(theta, a):\n",
    "    return (a/2)**(2) *(26-32*cos(theta)+6*cos(2*theta))-a*(-3+4*cos(theta)-cos(2*theta))\n",
    "\n",
    "plt.plot(theta, first_expression(theta,-1))\n",
    "plt.plot(theta ,last_expression(theta,-1))"
   ]
  },
  {
   "cell_type": "markdown",
   "id": "3c20c4a0",
   "metadata": {},
   "source": [
    "$$\n",
    "\\frac{a^2\\Delta t^2}{4\\Delta x^2}\\left[26-32\\cos{(\\theta)}+6\\cos{(2\\theta)}\\right]\n",
    "-\\frac{a\\Delta t}{\\Delta x}\\left[-3+4\\cos{(\\theta)}-\\cos{(2\\theta)}\\right]\n",
    "\\leq 0\n",
    "$$\n",
    "\n",
    "$$\n",
    "\\frac{a\\Delta t}{\\Delta x}\\left(\\frac{a\\Delta t}{4\\Delta x}\\left[26-32\\cos{(\\theta)}+6\\cos{(2\\theta)}\\right]\n",
    "-\\left[-3+4\\cos{(\\theta)}-\\cos{(2\\theta)}\\right] \\right)\\leq 0\n",
    "$$"
   ]
  },
  {
   "cell_type": "markdown",
   "id": "ec9363f9",
   "metadata": {},
   "source": [
    "We use the forward scheme for $a<0$. We know that $\\frac{a\\Delta t}{\\Delta x}<0$ but never equal to zero. This means that for the equality to hold:\n",
    "\n",
    "$$\n",
    "\\left(\\frac{a\\Delta t}{4\\Delta x}\\left[26-32\\cos{(\\theta)}+6\\cos{(2\\theta)}\\right]\n",
    "-\\left[-3+4\\cos{(\\theta)}-\\cos{(2\\theta)}\\right] \\right)\\geq0\n",
    "$$"
   ]
  },
  {
   "cell_type": "markdown",
   "id": "8882383f",
   "metadata": {},
   "source": [
    "To find the maximum and minimum values of this function we look at the derivative w.r.t $\\theta$:\n",
    "\n",
    "$$\n",
    "\\frac{d}{d\\theta}\\left(\\frac{a\\Delta t}{4\\Delta x}\\left[26-32\\cos{(\\theta)}+6\\cos{(2\\theta)}\\right]\n",
    "-\\left[-3+4\\cos{(\\theta)}-\\cos{(2\\theta)}\\right] \\right)=\\frac{a\\Delta t}{4\\Delta x}\\left[32\\sin{(\\theta)}-12\\sin{(2\\theta)} \\right]+\\left[4\\sin{(\\theta)}-2\\sin{(2\\theta)}\\right]\n",
    "$$"
   ]
  },
  {
   "cell_type": "markdown",
   "id": "94f9eca4",
   "metadata": {},
   "source": [
    "Using $\\sin{(2\\theta)}=2\\sin{(\\theta)}\\cos{(\\theta)}$:\n",
    "\n",
    "$$\n",
    "\\frac{a\\Delta t}{4\\Delta x}\\left[32\\sin{(\\theta)}-12\\sin{(2\\theta)} \\right]+\\left[4\\sin{(\\theta)}-2\\sin{(2\\theta)}\\right]\n",
    "$$\n",
    "\n",
    "$$\n",
    "\\frac{a\\Delta t}{4\\Delta x}\\left[32\\sin{(\\theta)}-24\\sin{(\\theta)}\\cos{(\\theta)}\\right]+\\left[4\\sin{(\\theta)}-4\\sin{(\\theta)}\\cos{(\\theta)}\\right]\n",
    "$$\n",
    "\n",
    "$$\n",
    "\\left[\\frac{a\\Delta t}{4\\Delta x}\\left[32-24\\cos{(\\theta)}\\right]+\\left[4-4\\cos{(\\theta)}\\right]\\right]\\sin{(\\theta)}\n",
    "$$\n",
    "\n",
    "Factoring out some primes:\n",
    "\n",
    "$$\n",
    "\\left[\\frac{2a\\Delta t}{\\Delta x}\\left[4-3\\cos{(\\theta)}\\right]+4\\left[1-\\cos{(\\theta)}\\right]\\right]\\sin{(\\theta)}\n",
    "$$"
   ]
  },
  {
   "cell_type": "markdown",
   "id": "1e966b47",
   "metadata": {},
   "source": [
    "The max/min are at:\n",
    "\n",
    "$$\n",
    "\\left[\\frac{2a\\Delta t}{\\Delta x}\\left[4-3\\cos{(\\theta)}\\right]+4\\left[1-\\cos{(\\theta)}\\right]\\right]\\sin{(\\theta)}=0\n",
    "$$\n",
    "\n",
    "This is zero either when $\\sin{(\\theta)}=0$, which we don't care about and when\n",
    "\n",
    "$$\n",
    "\\left[\\frac{2a\\Delta t}{\\Delta x}\\left[4-3\\cos{(\\theta)}\\right]+4\\left[1-\\cos{(\\theta)}\\right]\\right]=0\n",
    "$$\n",
    "\n",
    "$$\n",
    "\\Delta t = \\frac{\\Delta x}{a}\\frac{2(\\cos{(\\theta)-1)}}{4-3\\cos{(\\theta)}}\n",
    "$$"
   ]
  },
  {
   "cell_type": "markdown",
   "id": "9194aed5",
   "metadata": {},
   "source": [
    "Now we look at this expression:\n",
    "$$\n",
    "\\frac{2(\\cos{(\\theta)-1)}}{4-3\\cos{(\\theta)}}.\n",
    "$$\n",
    "\n",
    "\\begin{align}\n",
    "\\cos{(\\theta)}=1\\ &: \\Delta t=0 \\\\\n",
    "\\cos{(\\theta)}=0\\ &: \\Delta t=-\\frac{1}{2}\\frac{\\Delta x}{a} \\\\\n",
    "\\cos{(\\theta)}=-1\\ &: \\Delta t=-\\frac{4}{7}\\frac{\\Delta x}{a}\n",
    "\\end{align}\n",
    "\n",
    "Since a is negative we can also write this as\n",
    "\\begin{align}\n",
    "\\cos{(\\theta)}=1\\ &: \\Delta t=0 \\\\\n",
    "\\cos{(\\theta)}=0\\ &: \\Delta t=\\frac{1}{2}\\frac{\\Delta x}{|a|} \\\\\n",
    "\\cos{(\\theta)}=-1\\ &: \\Delta t=\\frac{4}{7}\\frac{\\Delta x}{|a|}\n",
    "\\end{align}\n",
    "\n",
    "We choose the smallest of these as the CFL condition for $\\Delta t$:\n",
    "\n",
    "$$\n",
    "\\Delta t\\leq \\frac{1}{2}\\frac{\\Delta x}{|a|}\n",
    "$$"
   ]
  },
  {
   "cell_type": "code",
   "execution_count": null,
   "id": "13dc4daa",
   "metadata": {},
   "outputs": [],
   "source": []
  },
  {
   "cell_type": "code",
   "execution_count": null,
   "id": "f088613c",
   "metadata": {},
   "outputs": [],
   "source": []
  },
  {
   "cell_type": "code",
   "execution_count": null,
   "id": "150b29be",
   "metadata": {},
   "outputs": [],
   "source": []
  },
  {
   "cell_type": "markdown",
   "id": "efacbe75",
   "metadata": {},
   "source": [
    "Løs ODE. Plugg numerisk inn i ODE for \\Delta t \\lambda\n",
    "\n",
    "Von neumann analyse 1 gang i appendix.\n",
    "\n",
    "stability plots.\n",
    "\n",
    "Plot solar S mot hva vi regner ut for T0, P0 ect.\n",
    "\n",
    "Assume zero diffusivities K=0\n",
    "\n",
    "Struckt for variable pointers. #define, #if compilation .... (macro) BRUK PARANTESER\n",
    "\n",
    "gong solar s"
   ]
  }
 ],
 "metadata": {
  "kernelspec": {
   "display_name": "Python 3 (ipykernel)",
   "language": "python",
   "name": "python3"
  },
  "language_info": {
   "codemirror_mode": {
    "name": "ipython",
    "version": 3
   },
   "file_extension": ".py",
   "mimetype": "text/x-python",
   "name": "python",
   "nbconvert_exporter": "python",
   "pygments_lexer": "ipython3",
   "version": "3.11.3"
  }
 },
 "nbformat": 4,
 "nbformat_minor": 5
}
