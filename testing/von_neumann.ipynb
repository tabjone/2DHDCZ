{
 "cells": [
  {
   "cell_type": "markdown",
   "id": "08811448",
   "metadata": {},
   "source": [
    "Equation\n",
    "$$\n",
    "\\frac{du}{dt}=-a\\frac{du}{dx}\n",
    "$$"
   ]
  },
  {
   "cell_type": "markdown",
   "id": "b1bd60f1",
   "metadata": {},
   "source": [
    "Principle:\n",
    "\n",
    "Assume peculiar solution on the form $u_{j}^n = \\xi^n e^{ik\\pi j \\Delta x}$.\n",
    "\n",
    "Insert this to whatever equation and require that $|\\xi|^2\\leq 1$ for all $k$."
   ]
  },
  {
   "cell_type": "markdown",
   "id": "014d1611",
   "metadata": {},
   "source": [
    "FTCS:\n",
    "\n",
    "$$\n",
    "\\frac{u_{j}^{n+1}-u_{j}^{n}}{\\Delta t}=-a\\frac{u_{j+1}^n-u_{j-1}^n}{2\\Delta x}\n",
    "$$\n",
    "\n",
    "$$\n",
    "\\frac{\\xi^{n+1}-\\xi^{n}}{\\Delta t}e^{ik\\pi j\\Delta x}=-a\\xi^n \\frac{e^{ik\\pi (j+1) \\Delta x}-e^{ik\\pi (j-1) \\Delta x}}{2\\Delta x}\n",
    "$$\n",
    "\n",
    "We divide by $e^{ik\\pi j\\Delta x}$:\n",
    "\n",
    "$$\n",
    "\\frac{\\xi^{n+1}-\\xi^{n}}{\\Delta t}=-a\\xi^n \\frac{e^{ik\\pi\\Delta x}-e^{-ik\\pi\\Delta x}}{2\\Delta x}\n",
    "$$\n",
    "\n",
    "Dividing by $\\xi^n$ and multiplying by $\\Delta t$:\n",
    "\n",
    "$$\n",
    "(\\xi-1)=-a\\frac{\\Delta t}{2\\Delta x} (e^{ik\\pi\\Delta x}-e^{-ik\\pi\\Delta x})\n",
    "$$\n",
    "\n",
    "Using identity $e^{ix}-e^{-ix}=2i\\sin{(x)}$:\n",
    "\n",
    "$$\n",
    "(\\xi-1)=-a\\frac{\\Delta t}{2\\Delta x} (2i\\sin{(k\\pi\\Delta x)})\n",
    "$$\n",
    "\n",
    "$$\n",
    "\\xi = -a\\frac{\\Delta t}{2\\Delta x} (2i\\sin{(k\\pi\\Delta x)}) + 1\n",
    "$$\n",
    "\n",
    "Requirement:\n",
    "\n",
    "$$\n",
    "|\\xi|^2 =  \\left|-a\\frac{\\Delta t}{2\\Delta x}(2i\\sin{(k\\pi\\Delta x)}) + 1\\right|^2=a^2\\frac{\\Delta t^2}{4\\Delta x^2}(1+2\\sin{(k\\pi\\Delta x)})\\leq 1\n",
    "$$\n",
    "\n",
    "$$\n",
    "\\Delta t \\leq \\sqrt{\\frac{4\\Delta x^2}{a^2(1+2\\sin{(k\\pi\\Delta x)})}}.\n",
    "$$\n",
    "\n",
    "$$\n",
    "\\Delta t \\leq \\frac{2\\Delta x}{a}\\sqrt{\\frac{1}{1+2\\sin{(k\\pi\\Delta x)}}}.\n",
    "$$"
   ]
  },
  {
   "cell_type": "code",
   "execution_count": null,
   "id": "4d709644",
   "metadata": {},
   "outputs": [],
   "source": []
  }
 ],
 "metadata": {
  "kernelspec": {
   "display_name": "Python 3 (ipykernel)",
   "language": "python",
   "name": "python3"
  },
  "language_info": {
   "codemirror_mode": {
    "name": "ipython",
    "version": 3
   },
   "file_extension": ".py",
   "mimetype": "text/x-python",
   "name": "python",
   "nbconvert_exporter": "python",
   "pygments_lexer": "ipython3",
   "version": "3.11.3"
  }
 },
 "nbformat": 4,
 "nbformat_minor": 5
}
