{
 "cells": [
  {
   "cell_type": "markdown",
   "id": "2a3d233e",
   "metadata": {},
   "source": [
    "Equation\n",
    "$$\n",
    "\\frac{du}{dt}=-a\\frac{du}{dx}\n",
    "$$"
   ]
  },
  {
   "cell_type": "markdown",
   "id": "bfcf135d",
   "metadata": {},
   "source": [
    "Principle:\n",
    "\n",
    "Assume peculiar solution on the form $u_{j}^n = \\xi^n e^{ik\\pi j \\Delta x}$.\n",
    "\n",
    "Insert this to whatever equation and require that $|\\xi|^2\\leq 1$ for all $k$."
   ]
  },
  {
   "cell_type": "markdown",
   "id": "f95991aa",
   "metadata": {},
   "source": [
    "**FTCS**:\n",
    "\n",
    "$$\n",
    "\\frac{u_{j}^{n+1}-u_{j}^{n}}{\\Delta t}=-a\\frac{u_{j+1}^n-u_{j-1}^n}{2\\Delta x}\n",
    "$$\n",
    "\n",
    "Inserting peculiar sulution:\n",
    "\n",
    "$$\n",
    "\\frac{\\xi^{n+1}-\\xi^{n}}{\\Delta t}e^{ik\\pi j\\Delta x}=-a\\xi^n \\frac{e^{ik\\pi (j+1) \\Delta x}-e^{ik\\pi (j-1) \\Delta x}}{2\\Delta x}\n",
    "$$\n",
    "\n",
    "We divide by $e^{ik\\pi j\\Delta x}$:\n",
    "\n",
    "$$\n",
    "\\frac{\\xi^{n+1}-\\xi^{n}}{\\Delta t}=-a\\xi^n \\frac{e^{ik\\pi\\Delta x}-e^{-ik\\pi\\Delta x}}{2\\Delta x}\n",
    "$$\n",
    "\n",
    "Dividing by $\\xi^n$ and multiplying by $\\Delta t$:\n",
    "\n",
    "$$\n",
    "(\\xi-1)=-a\\frac{\\Delta t}{2\\Delta x} (e^{ik\\pi\\Delta x}-e^{-ik\\pi\\Delta x})\n",
    "$$\n",
    "\n",
    "Using identity $e^{ix}-e^{-ix}=2i\\sin{(x)}$:\n",
    "\n",
    "$$\n",
    "(\\xi-1)=-a\\frac{\\Delta t}{2\\Delta x} (2i\\sin{(k\\pi\\Delta x)})\n",
    "$$\n",
    "\n",
    "$$\n",
    "\\xi = -a\\frac{\\Delta t}{2\\Delta x} (2i\\sin{(k\\pi\\Delta x)}) + 1\n",
    "$$\n",
    "\n",
    "Requirement:\n",
    "\n",
    "$$\n",
    "|\\xi|^2 =  \\left|-a\\frac{\\Delta t}{2\\Delta x}(2i\\sin{(k\\pi\\Delta x)}) + 1\\right|^2=1+a^2\\frac{\\Delta t^2}{4\\Delta x^2}(4\\sin^2{(k\\pi\\Delta x)})\\leq 1.\n",
    "$$\n",
    "\n",
    "$$\n",
    "a^2\\frac{\\Delta t^2}{\\Delta x^2}\\sin^2{(k\\pi\\Delta x)}\\leq 0 \\Rightarrow \\Delta t \\leq 0.\n",
    "$$\n",
    "\n",
    "Don't work."
   ]
  },
  {
   "cell_type": "markdown",
   "id": "d4d7d4e2",
   "metadata": {},
   "source": [
    "**FTFS:**\n",
    "$$\n",
    "\\frac{u_{j}^{n+1}-u_{j}^{n}}{\\Delta t}=-a\n",
    "\\frac{-3u_{j}^n+ 4u_{j+1}^n- u_{j+2}^n}{2\\Delta x}\n",
    "$$\n",
    "\n",
    "Inserting peculiar solution (and for simplicity $\\theta=k\\pi\\Delta x$:\n",
    "\n",
    "$$\n",
    "\\frac{\\xi-1}{\\Delta t}\\xi^n e^{ij\\theta} =-a\n",
    "\\xi^n\\frac{-3e^{ij\\theta}+ 4e^{i(j+1)\\theta}- e^{i(j+2)\\theta}}{2\\Delta x}\n",
    "$$\n",
    "\n",
    "Dividing by $\\xi^ne^{ij\\theta}$:\n",
    "\n",
    "$$\n",
    "\\frac{\\xi-1}{\\Delta t}=-a\\frac{-3+ 4e^{i\\theta}- e^{2i\\theta}}{2\\Delta x}\n",
    "$$\n",
    "\n",
    "Using $e^{ix}=\\cos(x)+i\\sin(x)$ and solving for $\\xi$:\n",
    "\n",
    "$$\n",
    "\\xi=-\\frac{a\\Delta t}{2\\Delta x}\\left[-3+4(\\cos{(\\theta)}+i\\sin{(\\theta)})-(\\cos{(2\\theta)}+i\\sin{(2\\theta)})\\right]+1\n",
    "$$\n",
    "\n",
    "$$\n",
    "\\xi=-\\frac{a\\Delta t}{2\\Delta x}\\left[-3+4\\cos{(\\theta)}-\\cos{(2\\theta)}+4i\\sin{(\\theta)}-i\\sin{(2\\theta)}\\right]+1\n",
    "$$\n",
    "\n",
    "Separating real and imaginary parts:\n",
    "\n",
    "$$\n",
    "\\xi=\\left(-\\frac{a\\Delta t}{2\\Delta x}\\left[-3+4\\cos{(\\theta)}-\\cos{(2\\theta)}\\right]+1\\right)\n",
    "+i\\left(-\\frac{a\\Delta t}{2\\Delta x}\\left[4\\sin{(\\theta)}-\\sin{(2\\theta)}\\right]\\right)\n",
    "$$"
   ]
  },
  {
   "cell_type": "markdown",
   "id": "292be9cc",
   "metadata": {},
   "source": [
    "Absolute value thing:\n",
    "\n",
    "$$\n",
    "|\\xi|^2=\\left(-\\frac{a\\Delta t}{2\\Delta x}\\left[-3+4\\cos{(\\theta)}-\\cos{(2\\theta)}\\right]+1\\right)^2\n",
    "+\\left(-\\frac{a\\Delta t}{2\\Delta x}\\left[4\\sin{(\\theta)}-\\sin{(2\\theta)}\\right]\\right)^2\n",
    "$$"
   ]
  },
  {
   "cell_type": "markdown",
   "id": "4e468074",
   "metadata": {},
   "source": [
    "$$\n",
    "|\\xi|^2=\\frac{a^2\\Delta t^2}{4\\Delta x^2}\\left[-3+4\\cos{(\\theta)}-\\cos{(2\\theta)}\\right]^2-\\frac{a\\Delta t}{\\Delta x}\\left[-3+4\\cos{(\\theta)}-\\cos{(2\\theta)}\\right]+1\n",
    "+\\frac{a^2\\Delta t^2}{4\\Delta x^2}\\left[4\\sin{(\\theta)}-\\sin{(2\\theta)}\\right]^2\\leq 1\n",
    "$$\n",
    "\n",
    "$$\n",
    "\\frac{a^2\\Delta t^2}{4\\Delta x^2}\\left[-3+4\\cos{(\\theta)}-\\cos{(2\\theta)}\\right]^2-\\frac{a\\Delta t}{\\Delta x}\\left[-3+4\\cos{(\\theta)}-\\cos{(2\\theta)}\\right]\n",
    "+\\frac{a^2\\Delta t^2}{4\\Delta x^2}\\left[4\\sin{(\\theta)}-\\sin{(2\\theta)}\\right]^2\\leq 0\n",
    "$$"
   ]
  },
  {
   "cell_type": "markdown",
   "id": "744c1dee",
   "metadata": {},
   "source": [
    "Dividing by $\\frac{a\\Delta t}{\\Delta x}$:\n",
    "\n",
    "$$\n",
    "\\frac{a\\Delta t}{4\\Delta x}\\left[-3+4\\cos{(\\theta)}-\\cos{(2\\theta)}\\right]^2-\\left[-3+4\\cos{(\\theta)}-\\cos{(2\\theta)}\\right]\n",
    "+\\frac{a\\Delta t}{4\\Delta x}\\left[4\\sin{(\\theta)}-\\sin{(2\\theta)}\\right]^2\\leq 0\n",
    "$$\n",
    "\n",
    "$$\n",
    "\\frac{a\\Delta t}{4\\Delta x}\\left[16\\cos^2{(\\theta)}+\\cos^2{(2\\theta)}-8\\cos{(2\\theta)}\\cos{(\\theta)}-24\\cos{(\\theta)}+6\\cos{(2\\theta)}+9 \\right]\n",
    "-\\left[-3+4\\cos{(\\theta)}-\\cos{(2\\theta)}\\right]\n",
    "+\\frac{a\\Delta t}{4\\Delta x}\\left[16\\sin^2{(\\theta)}+\\sin^2{(2\\theta)}-8\\sin{(2\\theta)}\\sin{(\\theta)} \\right]\n",
    "\\leq 0\n",
    "$$"
   ]
  },
  {
   "cell_type": "markdown",
   "id": "364486cf",
   "metadata": {},
   "source": [
    "$$\n",
    "\\frac{a\\Delta t}{4\\Delta x}\\left[16\\cos^2{(\\theta)}+\\cos^2{(2\\theta)}-8\\cos{(2\\theta)}\\cos{(\\theta)}-24\\cos{(\\theta)}+6\\cos{(2\\theta)}+9 +16\\sin^2{(\\theta)}+\\sin^2{(2\\theta)}-8\\sin{(2\\theta)}\\sin{(\\theta)}\\right]\n",
    "-\\left[-3+4\\cos{(\\theta)}-\\cos{(2\\theta)}\\right]\n",
    "\\leq 0\n",
    "$$"
   ]
  },
  {
   "cell_type": "markdown",
   "id": "765c7e83",
   "metadata": {},
   "source": [
    "Using $\\sin^2{(x)}+\\cos^2{(x)}=1$:"
   ]
  },
  {
   "cell_type": "markdown",
   "id": "958be2d7",
   "metadata": {},
   "source": [
    "$$\n",
    "\\frac{a\\Delta t}{4\\Delta x}\\left[26-8\\cos{(2\\theta)}\\cos{(\\theta)}-24\\cos{(\\theta)}+6\\cos{(2\\theta)}-8\\sin{(2\\theta)}\\sin{(\\theta)}\\right]\n",
    "-\\left[-3+4\\cos{(\\theta)}-\\cos{(2\\theta)}\\right]\n",
    "\\leq 0\n",
    "$$"
   ]
  },
  {
   "cell_type": "markdown",
   "id": "4a5f324b",
   "metadata": {},
   "source": [
    "Using $\\sin{(2\\theta)}=2\\sin\\theta\\cos\\theta$:"
   ]
  },
  {
   "cell_type": "markdown",
   "id": "3d911694",
   "metadata": {},
   "source": [
    "$$\n",
    "\\frac{a\\Delta t}{4\\Delta x}\\left[26-8\\cos{(2\\theta)}\\cos{(\\theta)}-24\\cos{(\\theta)}+6\\cos{(2\\theta)}-16\\sin^2{(\\theta)}\\cos{(\\theta)}\\right]\n",
    "-\\left[-3+4\\cos{(\\theta)}-\\cos{(2\\theta)}\\right]\n",
    "\\leq 0\n",
    "$$"
   ]
  },
  {
   "cell_type": "markdown",
   "id": "fc8c45bf",
   "metadata": {},
   "source": [
    "$$\n",
    "\\frac{a\\Delta t}{4\\Delta x}\\left[26-\\cos{(\\theta)}(8\\cos{(2\\theta)}+24+16\\sin^2{(\\theta)})+6\\cos{(2\\theta)}\\right]\n",
    "-\\left[-3+4\\cos{(\\theta)}-\\cos{(2\\theta)}\\right]\n",
    "\\leq 0\n",
    "$$"
   ]
  },
  {
   "cell_type": "markdown",
   "id": "d84845e7",
   "metadata": {},
   "source": [
    "Using $\\cos{(2\\theta)}=\\cos^2{(\\theta)}-\\sin^2{(\\theta)}$:\n",
    "\n",
    "$$\n",
    "\\frac{a\\Delta t}{4\\Delta x}\\left[26-\\cos{(\\theta)}(8(\\cos^2{(\\theta)}-\\sin^2{(\\theta)})+24+16\\sin^2{(\\theta)})+6\\cos{(2\\theta)}\\right]\n",
    "-\\left[-3+4\\cos{(\\theta)}-\\cos{(2\\theta)}\\right]\n",
    "\\leq 0\n",
    "$$\n",
    "\n",
    "$$\n",
    "\\frac{a\\Delta t}{4\\Delta x}\\left[26-25\\cos{(\\theta)}+6\\cos{(2\\theta)}\\right]\n",
    "-\\left[-3+4\\cos{(\\theta)}-\\cos{(2\\theta)}\\right]\n",
    "\\leq 0\n",
    "$$\n",
    "\n",
    "$$\n",
    "\\Delta t \\leq \\frac{4\\Delta x}{a}\\left[\\frac{-3+4\\cos{(\\theta)}-\\cos{(2\\theta)}}{26-25\\cos{(\\theta)}+6\\cos{(2\\theta)}}\\right]\n",
    "$$"
   ]
  },
  {
   "cell_type": "markdown",
   "id": "c256b754",
   "metadata": {},
   "source": [
    "Evaluating this gives a maximum for the expression in brackets is when $\\theta=2\\pi n$, where $n$ is a natural number gives a value of 1. Then \n",
    "\n",
    "$$\n",
    "\\Delta t \\leq \\frac{4\\Delta x}{a}\n",
    "$$"
   ]
  },
  {
   "cell_type": "code",
   "execution_count": null,
   "id": "223f0818",
   "metadata": {},
   "outputs": [],
   "source": []
  }
 ],
 "metadata": {
  "kernelspec": {
   "display_name": "Python 3 (ipykernel)",
   "language": "python",
   "name": "python3"
  },
  "language_info": {
   "codemirror_mode": {
    "name": "ipython",
    "version": 3
   },
   "file_extension": ".py",
   "mimetype": "text/x-python",
   "name": "python",
   "nbconvert_exporter": "python",
   "pygments_lexer": "ipython3",
   "version": "3.11.3"
  }
 },
 "nbformat": 4,
 "nbformat_minor": 5
}
